{
 "cells": [
  {
   "cell_type": "markdown",
   "metadata": {},
   "source": [
    "# Importing the libraries"
   ]
  },
  {
   "cell_type": "code",
   "execution_count": 20,
   "metadata": {},
   "outputs": [],
   "source": [
    "import time\n",
    "program_start = time.time()\n",
    "import matplotlib.pyplot as plt\n",
    "import numpy as np\n",
    "import pandas as pd\n",
    "from alpha_vantage.timeseries import TimeSeries\n",
    "import os"
   ]
  },
  {
   "cell_type": "markdown",
   "metadata": {},
   "source": [
    "# API key and ticker symbol"
   ]
  },
  {
   "cell_type": "code",
   "execution_count": 21,
   "metadata": {},
   "outputs": [],
   "source": [
    "av_key = os.environ.get('av_key')\n",
    "ticker = 'TSLA'"
   ]
  },
  {
   "cell_type": "markdown",
   "metadata": {},
   "source": [
    "# Importing the dataset"
   ]
  },
  {
   "cell_type": "code",
   "execution_count": 22,
   "metadata": {},
   "outputs": [
    {
     "name": "stdout",
     "output_type": "stream",
     "text": [
      "                     1. open  2. high   3. low  4. close  5. volume\n",
      "date                                                               \n",
      "2020-07-17 20:00:00  1506.78  1506.78  1506.78   1506.78      873.0\n",
      "2020-07-17 19:59:00  1505.75  1505.75  1505.75   1505.75     1149.0\n",
      "2020-07-17 19:56:00  1505.75  1505.75  1505.75   1505.75      524.0\n",
      "2020-07-17 19:55:00  1505.00  1505.00  1505.00   1505.00      656.0\n",
      "2020-07-17 19:54:00  1504.50  1504.50  1504.50   1504.50      310.0\n"
     ]
    }
   ],
   "source": [
    "ts = TimeSeries(key=av_key, output_format = 'pandas')\n",
    "df, meta_data = ts.get_intraday(symbol=ticker, interval='1min', outputsize='full')\n",
    "print(df.head())"
   ]
  },
  {
   "cell_type": "code",
   "execution_count": 23,
   "metadata": {},
   "outputs": [
    {
     "name": "stdout",
     "output_type": "stream",
     "text": [
      "<class 'pandas.core.frame.DataFrame'>\n",
      "DatetimeIndex: 3644 entries, 2020-07-17 20:00:00 to 2020-07-13 04:01:00\n",
      "Data columns (total 5 columns):\n",
      " #   Column     Non-Null Count  Dtype  \n",
      "---  ------     --------------  -----  \n",
      " 0   1. open    3644 non-null   float64\n",
      " 1   2. high    3644 non-null   float64\n",
      " 2   3. low     3644 non-null   float64\n",
      " 3   4. close   3644 non-null   float64\n",
      " 4   5. volume  3644 non-null   float64\n",
      "dtypes: float64(5)\n",
      "memory usage: 170.8 KB\n",
      "None\n"
     ]
    }
   ],
   "source": [
    "print(df.info())"
   ]
  },
  {
   "cell_type": "markdown",
   "metadata": {},
   "source": [
    "# Data preprocessing"
   ]
  },
  {
   "cell_type": "code",
   "execution_count": 24,
   "metadata": {},
   "outputs": [
    {
     "name": "stdout",
     "output_type": "stream",
     "text": [
      "                           o        h        l        c     vol color  range  \\\n",
      "date                                                                           \n",
      "2020-07-17 20:00:00  1506.78  1506.78  1506.78  1506.78   873.0  blue    0.0   \n",
      "2020-07-17 19:59:00  1505.75  1505.75  1505.75  1505.75  1149.0  blue    0.0   \n",
      "2020-07-17 19:56:00  1505.75  1505.75  1505.75  1505.75   524.0  blue    0.0   \n",
      "2020-07-17 19:55:00  1505.00  1505.00  1505.00  1505.00   656.0  blue    0.0   \n",
      "2020-07-17 19:54:00  1504.50  1504.50  1504.50  1504.50   310.0  blue    0.0   \n",
      "\n",
      "                     u_shadow  l_shadow  u_bound  l_bound  \n",
      "date                                                       \n",
      "2020-07-17 20:00:00       0.0       0.0  1506.78  1506.78  \n",
      "2020-07-17 19:59:00       0.0       0.0  1505.75  1505.75  \n",
      "2020-07-17 19:56:00       0.0       0.0  1505.75  1505.75  \n",
      "2020-07-17 19:55:00       0.0       0.0  1505.00  1505.00  \n",
      "2020-07-17 19:54:00       0.0       0.0  1504.50  1504.50  \n"
     ]
    }
   ],
   "source": [
    "df.columns = ['o', 'h', 'l', 'c', 'vol'] #Renaming columns\n",
    "color, rng, u_shadow, l_shadow, ub, lb = [], [], [], [], [], []\n",
    "\n",
    "for ind in df.index:\n",
    "    rng.append(df['h'][ind] - df['l'][ind]) #Calculating range\n",
    "    \n",
    "    if df['o'][ind] > df['c'][ind]:\n",
    "        color.append('red') #open higher than close --> bearishness\n",
    "    else:\n",
    "        color.append('blue') #open is lower than or equal to close --> bulllishness\n",
    "\n",
    "    if color[::-1] == 'red':  #Determining shadow length and bounds for red candles\n",
    "        u_shadow.append(df['h'][ind] - df['o'][ind])\n",
    "        l_shadow.append(df['c'][ind] - df['l'][ind])\n",
    "        ub.append(df['o'][ind])\n",
    "        lb.append(df['c'][ind])\n",
    "    else: #Determining shadow length and bounds for blue candles\n",
    "        u_shadow.append(df['h'][ind] - df['c'][ind])\n",
    "        l_shadow.append(df['o'][ind] - df['l'][ind])\n",
    "        ub.append(df['c'][ind])\n",
    "        lb.append(df['o'][ind])\n",
    "        \n",
    "df['color'] = color\n",
    "df['range'] = rng\n",
    "df['u_shadow'] = u_shadow\n",
    "df['l_shadow'] = l_shadow\n",
    "df['u_bound'] = ub\n",
    "df['l_bound'] = lb\n",
    "print(df.head())"
   ]
  },
  {
   "cell_type": "markdown",
   "metadata": {},
   "source": [
    "# Single candlestick patterns"
   ]
  },
  {
   "cell_type": "code",
   "execution_count": 25,
   "metadata": {},
   "outputs": [
    {
     "name": "stdout",
     "output_type": "stream",
     "text": [
      "                           o        h        l        c     vol color  range  \\\n",
      "date                                                                           \n",
      "2020-07-17 20:00:00  1506.78  1506.78  1506.78  1506.78   873.0  blue    0.0   \n",
      "2020-07-17 19:59:00  1505.75  1505.75  1505.75  1505.75  1149.0  blue    0.0   \n",
      "2020-07-17 19:56:00  1505.75  1505.75  1505.75  1505.75   524.0  blue    0.0   \n",
      "2020-07-17 19:55:00  1505.00  1505.00  1505.00  1505.00   656.0  blue    0.0   \n",
      "2020-07-17 19:54:00  1504.50  1504.50  1504.50  1504.50   310.0  blue    0.0   \n",
      "\n",
      "                     u_shadow  l_shadow  u_bound  l_bound s_pattern  \n",
      "date                                                                 \n",
      "2020-07-17 20:00:00       0.0       0.0  1506.78  1506.78  marubozu  \n",
      "2020-07-17 19:59:00       0.0       0.0  1505.75  1505.75  marubozu  \n",
      "2020-07-17 19:56:00       0.0       0.0  1505.75  1505.75  marubozu  \n",
      "2020-07-17 19:55:00       0.0       0.0  1505.00  1505.00  marubozu  \n",
      "2020-07-17 19:54:00       0.0       0.0  1504.50  1504.50  marubozu  \n"
     ]
    }
   ],
   "source": [
    "s_pattern = []\n",
    "for ind in df.index:\n",
    "    if (df['u_shadow'][ind]/df['u_bound'][ind] <= 0.003 and \n",
    "        df['l_shadow'][ind]/df['l_bound'][ind] <= 0.003):\n",
    "        s_pattern.append('marubozu')\n",
    "    elif df['u_shadow'][ind] == df['l_shadow'][ind]:\n",
    "        if df['range'][ind] < 0.005:\n",
    "            s_pattern.append('doji')\n",
    "        else:\n",
    "            s_pattern.append('spinning top')\n",
    "    elif df['u_shadow'][ind] < 0.003 and df['l_shadow'][ind] > 2*df['range'][ind]:\n",
    "        s_pattern.append('hammer')\n",
    "    elif df['l_shadow'][ind] < 0.003 and df['u_shadow'][ind] > 2*df['range'][ind]:\n",
    "        s_pattern.append('shooting star')\n",
    "    else:\n",
    "        s_pattern.append('others')\n",
    "df['s_pattern'] = s_pattern\n",
    "print(df.head())"
   ]
  },
  {
   "cell_type": "markdown",
   "metadata": {},
   "source": [
    "## Analysing single candlestick pattern detection results"
   ]
  },
  {
   "cell_type": "code",
   "execution_count": 26,
   "metadata": {},
   "outputs": [
    {
     "name": "stdout",
     "output_type": "stream",
     "text": [
      "marubozu        3011\n",
      "others           603\n",
      "spinning top      30\n",
      "Name: s_pattern, dtype: int64\n"
     ]
    }
   ],
   "source": [
    "count = df['s_pattern'].value_counts()\n",
    "print(count)"
   ]
  },
  {
   "cell_type": "code",
   "execution_count": 27,
   "metadata": {},
   "outputs": [
    {
     "name": "stdout",
     "output_type": "stream",
     "text": [
      "Runtime = 6.019988775253296\n"
     ]
    }
   ],
   "source": [
    "program_end = time.time()\n",
    "print(\"Runtime = {0}\".format(program_end - program_start))"
   ]
  }
 ],
 "metadata": {
  "kernelspec": {
   "display_name": "Python 3",
   "language": "python",
   "name": "python3"
  },
  "language_info": {
   "codemirror_mode": {
    "name": "ipython",
    "version": 3
   },
   "file_extension": ".py",
   "mimetype": "text/x-python",
   "name": "python",
   "nbconvert_exporter": "python",
   "pygments_lexer": "ipython3",
   "version": "3.7.6"
  }
 },
 "nbformat": 4,
 "nbformat_minor": 4
}
