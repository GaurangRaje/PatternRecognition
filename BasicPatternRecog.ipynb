{
  "nbformat": 4,
  "nbformat_minor": 0,
  "metadata": {
    "kernelspec": {
      "display_name": "Python 3",
      "language": "python",
      "name": "python3"
    },
    "language_info": {
      "codemirror_mode": {
        "name": "ipython",
        "version": 3
      },
      "file_extension": ".py",
      "mimetype": "text/x-python",
      "name": "python",
      "nbconvert_exporter": "python",
      "pygments_lexer": "ipython3",
      "version": "3.7.6"
    },
    "colab": {
      "name": "BasicPatternRecog.ipynb",
      "provenance": []
    }
  },
  "cells": [
    {
      "cell_type": "markdown",
      "metadata": {
        "id": "cibbrm9sdx0T",
        "colab_type": "text"
      },
      "source": [
        "# Importing the libraries"
      ]
    },
    {
      "cell_type": "code",
      "metadata": {
        "id": "EjGg1-4Xdx0Y",
        "colab_type": "code",
        "colab": {
          "base_uri": "https://localhost:8080/",
          "height": 263
        },
        "outputId": "6dbc2609-8fb6-40ee-cf15-ee0ee6fbb53d"
      },
      "source": [
        "!pip install alpha_vantage\n",
        "import time\n",
        "program_start = time.time()\n",
        "import matplotlib.pyplot as plt\n",
        "import numpy as np\n",
        "import pandas as pd\n",
        "from alpha_vantage.timeseries import TimeSeries\n",
        "import os\n",
        "from scipy.stats import linregress"
      ],
      "execution_count": 204,
      "outputs": [
        {
          "output_type": "stream",
          "text": [
            "Requirement already satisfied: alpha_vantage in /usr/local/lib/python3.6/dist-packages (2.2.0)\n",
            "Requirement already satisfied: aiohttp in /usr/local/lib/python3.6/dist-packages (from alpha_vantage) (3.6.2)\n",
            "Requirement already satisfied: requests in /usr/local/lib/python3.6/dist-packages (from alpha_vantage) (2.23.0)\n",
            "Requirement already satisfied: idna-ssl>=1.0; python_version < \"3.7\" in /usr/local/lib/python3.6/dist-packages (from aiohttp->alpha_vantage) (1.1.0)\n",
            "Requirement already satisfied: attrs>=17.3.0 in /usr/local/lib/python3.6/dist-packages (from aiohttp->alpha_vantage) (19.3.0)\n",
            "Requirement already satisfied: chardet<4.0,>=2.0 in /usr/local/lib/python3.6/dist-packages (from aiohttp->alpha_vantage) (3.0.4)\n",
            "Requirement already satisfied: yarl<2.0,>=1.0 in /usr/local/lib/python3.6/dist-packages (from aiohttp->alpha_vantage) (1.4.2)\n",
            "Requirement already satisfied: typing-extensions>=3.6.5; python_version < \"3.7\" in /usr/local/lib/python3.6/dist-packages (from aiohttp->alpha_vantage) (3.7.4.2)\n",
            "Requirement already satisfied: async-timeout<4.0,>=3.0 in /usr/local/lib/python3.6/dist-packages (from aiohttp->alpha_vantage) (3.0.1)\n",
            "Requirement already satisfied: multidict<5.0,>=4.5 in /usr/local/lib/python3.6/dist-packages (from aiohttp->alpha_vantage) (4.7.6)\n",
            "Requirement already satisfied: urllib3!=1.25.0,!=1.25.1,<1.26,>=1.21.1 in /usr/local/lib/python3.6/dist-packages (from requests->alpha_vantage) (1.24.3)\n",
            "Requirement already satisfied: certifi>=2017.4.17 in /usr/local/lib/python3.6/dist-packages (from requests->alpha_vantage) (2020.6.20)\n",
            "Requirement already satisfied: idna<3,>=2.5 in /usr/local/lib/python3.6/dist-packages (from requests->alpha_vantage) (2.10)\n"
          ],
          "name": "stdout"
        }
      ]
    },
    {
      "cell_type": "markdown",
      "metadata": {
        "id": "ePZbPxjxdx0w",
        "colab_type": "text"
      },
      "source": [
        "# API key and ticker symbol"
      ]
    },
    {
      "cell_type": "code",
      "metadata": {
        "id": "oruiJIEAdx06",
        "colab_type": "code",
        "colab": {}
      },
      "source": [
        "av_key = 'HDHS7RJSLYNN07J7l'\n",
        "#os.environ.get('av_key')\n",
        "ticker = 'TSLA'"
      ],
      "execution_count": 205,
      "outputs": []
    },
    {
      "cell_type": "markdown",
      "metadata": {
        "id": "9zUwyhh2dx1G",
        "colab_type": "text"
      },
      "source": [
        "# Importing the dataset"
      ]
    },
    {
      "cell_type": "code",
      "metadata": {
        "id": "Wwyqvj_sdx1J",
        "colab_type": "code",
        "colab": {
          "base_uri": "https://localhost:8080/",
          "height": 206
        },
        "outputId": "b730e255-4908-4838-af29-b2f024f837ff"
      },
      "source": [
        "ts = TimeSeries(key=av_key, output_format = 'pandas')\n",
        "df, meta_data = ts.get_daily(symbol=ticker, outputsize='full')\n",
        "df = df.reindex(index=df.index[::-1])\n",
        "df = df.reset_index()\n",
        "df.head()"
      ],
      "execution_count": 206,
      "outputs": [
        {
          "output_type": "execute_result",
          "data": {
            "text/html": [
              "<div>\n",
              "<style scoped>\n",
              "    .dataframe tbody tr th:only-of-type {\n",
              "        vertical-align: middle;\n",
              "    }\n",
              "\n",
              "    .dataframe tbody tr th {\n",
              "        vertical-align: top;\n",
              "    }\n",
              "\n",
              "    .dataframe thead th {\n",
              "        text-align: right;\n",
              "    }\n",
              "</style>\n",
              "<table border=\"1\" class=\"dataframe\">\n",
              "  <thead>\n",
              "    <tr style=\"text-align: right;\">\n",
              "      <th></th>\n",
              "      <th>date</th>\n",
              "      <th>1. open</th>\n",
              "      <th>2. high</th>\n",
              "      <th>3. low</th>\n",
              "      <th>4. close</th>\n",
              "      <th>5. volume</th>\n",
              "    </tr>\n",
              "  </thead>\n",
              "  <tbody>\n",
              "    <tr>\n",
              "      <th>0</th>\n",
              "      <td>2010-06-29</td>\n",
              "      <td>19.00</td>\n",
              "      <td>25.0000</td>\n",
              "      <td>17.54</td>\n",
              "      <td>23.89</td>\n",
              "      <td>18766300.0</td>\n",
              "    </tr>\n",
              "    <tr>\n",
              "      <th>1</th>\n",
              "      <td>2010-06-30</td>\n",
              "      <td>25.79</td>\n",
              "      <td>30.4192</td>\n",
              "      <td>23.30</td>\n",
              "      <td>23.83</td>\n",
              "      <td>17187100.0</td>\n",
              "    </tr>\n",
              "    <tr>\n",
              "      <th>2</th>\n",
              "      <td>2010-07-01</td>\n",
              "      <td>25.00</td>\n",
              "      <td>25.9200</td>\n",
              "      <td>20.27</td>\n",
              "      <td>21.96</td>\n",
              "      <td>8218800.0</td>\n",
              "    </tr>\n",
              "    <tr>\n",
              "      <th>3</th>\n",
              "      <td>2010-07-02</td>\n",
              "      <td>23.00</td>\n",
              "      <td>23.1000</td>\n",
              "      <td>18.71</td>\n",
              "      <td>19.20</td>\n",
              "      <td>5139800.0</td>\n",
              "    </tr>\n",
              "    <tr>\n",
              "      <th>4</th>\n",
              "      <td>2010-07-06</td>\n",
              "      <td>20.00</td>\n",
              "      <td>20.0000</td>\n",
              "      <td>15.83</td>\n",
              "      <td>16.11</td>\n",
              "      <td>6866900.0</td>\n",
              "    </tr>\n",
              "  </tbody>\n",
              "</table>\n",
              "</div>"
            ],
            "text/plain": [
              "        date  1. open  2. high  3. low  4. close   5. volume\n",
              "0 2010-06-29    19.00  25.0000   17.54     23.89  18766300.0\n",
              "1 2010-06-30    25.79  30.4192   23.30     23.83  17187100.0\n",
              "2 2010-07-01    25.00  25.9200   20.27     21.96   8218800.0\n",
              "3 2010-07-02    23.00  23.1000   18.71     19.20   5139800.0\n",
              "4 2010-07-06    20.00  20.0000   15.83     16.11   6866900.0"
            ]
          },
          "metadata": {
            "tags": []
          },
          "execution_count": 206
        }
      ]
    },
    {
      "cell_type": "code",
      "metadata": {
        "id": "I2EH65weo39p",
        "colab_type": "code",
        "colab": {
          "base_uri": "https://localhost:8080/",
          "height": 206
        },
        "outputId": "c8ee292b-57d9-450c-8daa-50346066a196"
      },
      "source": [
        "dfi, meta_data_i = ts.get_intraday(symbol=ticker, outputsize='full', interval='1min')\n",
        "dfi = dfi.reindex(index=dfi.index[::-1])\n",
        "dfi = dfi.reset_index()\n",
        "dfi.head()"
      ],
      "execution_count": 207,
      "outputs": [
        {
          "output_type": "execute_result",
          "data": {
            "text/html": [
              "<div>\n",
              "<style scoped>\n",
              "    .dataframe tbody tr th:only-of-type {\n",
              "        vertical-align: middle;\n",
              "    }\n",
              "\n",
              "    .dataframe tbody tr th {\n",
              "        vertical-align: top;\n",
              "    }\n",
              "\n",
              "    .dataframe thead th {\n",
              "        text-align: right;\n",
              "    }\n",
              "</style>\n",
              "<table border=\"1\" class=\"dataframe\">\n",
              "  <thead>\n",
              "    <tr style=\"text-align: right;\">\n",
              "      <th></th>\n",
              "      <th>date</th>\n",
              "      <th>1. open</th>\n",
              "      <th>2. high</th>\n",
              "      <th>3. low</th>\n",
              "      <th>4. close</th>\n",
              "      <th>5. volume</th>\n",
              "    </tr>\n",
              "  </thead>\n",
              "  <tbody>\n",
              "    <tr>\n",
              "      <th>0</th>\n",
              "      <td>2020-07-15 04:01:00</td>\n",
              "      <td>1576.0</td>\n",
              "      <td>1576.00</td>\n",
              "      <td>1576.0</td>\n",
              "      <td>1576.0</td>\n",
              "      <td>539.0</td>\n",
              "    </tr>\n",
              "    <tr>\n",
              "      <th>1</th>\n",
              "      <td>2020-07-15 04:14:00</td>\n",
              "      <td>1561.0</td>\n",
              "      <td>1563.31</td>\n",
              "      <td>1560.0</td>\n",
              "      <td>1560.0</td>\n",
              "      <td>1046.0</td>\n",
              "    </tr>\n",
              "    <tr>\n",
              "      <th>2</th>\n",
              "      <td>2020-07-15 04:18:00</td>\n",
              "      <td>1550.6</td>\n",
              "      <td>1550.60</td>\n",
              "      <td>1550.6</td>\n",
              "      <td>1550.6</td>\n",
              "      <td>345.0</td>\n",
              "    </tr>\n",
              "    <tr>\n",
              "      <th>3</th>\n",
              "      <td>2020-07-15 04:19:00</td>\n",
              "      <td>1545.0</td>\n",
              "      <td>1545.00</td>\n",
              "      <td>1545.0</td>\n",
              "      <td>1545.0</td>\n",
              "      <td>689.0</td>\n",
              "    </tr>\n",
              "    <tr>\n",
              "      <th>4</th>\n",
              "      <td>2020-07-15 04:22:00</td>\n",
              "      <td>1550.0</td>\n",
              "      <td>1550.00</td>\n",
              "      <td>1550.0</td>\n",
              "      <td>1550.0</td>\n",
              "      <td>404.0</td>\n",
              "    </tr>\n",
              "  </tbody>\n",
              "</table>\n",
              "</div>"
            ],
            "text/plain": [
              "                 date  1. open  2. high  3. low  4. close  5. volume\n",
              "0 2020-07-15 04:01:00   1576.0  1576.00  1576.0    1576.0      539.0\n",
              "1 2020-07-15 04:14:00   1561.0  1563.31  1560.0    1560.0     1046.0\n",
              "2 2020-07-15 04:18:00   1550.6  1550.60  1550.6    1550.6      345.0\n",
              "3 2020-07-15 04:19:00   1545.0  1545.00  1545.0    1545.0      689.0\n",
              "4 2020-07-15 04:22:00   1550.0  1550.00  1550.0    1550.0      404.0"
            ]
          },
          "metadata": {
            "tags": []
          },
          "execution_count": 207
        }
      ]
    },
    {
      "cell_type": "code",
      "metadata": {
        "id": "xZq8cAm9dx1X",
        "colab_type": "code",
        "colab": {
          "base_uri": "https://localhost:8080/",
          "height": 260
        },
        "outputId": "c9a54574-0a7f-401c-e931-baf07e116d92"
      },
      "source": [
        "df.describe"
      ],
      "execution_count": 208,
      "outputs": [
        {
          "output_type": "execute_result",
          "data": {
            "text/plain": [
              "<bound method NDFrame.describe of            date  1. open    2. high   3. low  4. close   5. volume\n",
              "0    2010-06-29    19.00    25.0000    17.54     23.89  18766300.0\n",
              "1    2010-06-30    25.79    30.4192    23.30     23.83  17187100.0\n",
              "2    2010-07-01    25.00    25.9200    20.27     21.96   8218800.0\n",
              "3    2010-07-02    23.00    23.1000    18.71     19.20   5139800.0\n",
              "4    2010-07-06    20.00    20.0000    15.83     16.11   6866900.0\n",
              "...         ...      ...        ...      ...       ...         ...\n",
              "2528 2020-07-15  1543.00  1550.0000  1457.00   1546.01  16368700.0\n",
              "2529 2020-07-16  1477.16  1531.7100  1466.00   1500.64  14300800.0\n",
              "2530 2020-07-17  1513.45  1537.5100  1490.00   1500.84   9332600.0\n",
              "2531 2020-07-20  1519.01  1650.0000  1488.00   1643.00  16697300.0\n",
              "2532 2020-07-21  1639.93  1675.0000  1558.00   1568.36  16029800.0\n",
              "\n",
              "[2533 rows x 6 columns]>"
            ]
          },
          "metadata": {
            "tags": []
          },
          "execution_count": 208
        }
      ]
    },
    {
      "cell_type": "code",
      "metadata": {
        "id": "kXvrS5bA7ZTg",
        "colab_type": "code",
        "colab": {
          "base_uri": "https://localhost:8080/",
          "height": 206
        },
        "outputId": "763a6757-7aae-4f5c-da84-f846be4ad6f6"
      },
      "source": [
        "df = df.drop('date', axis=1)\n",
        "df.head()"
      ],
      "execution_count": 209,
      "outputs": [
        {
          "output_type": "execute_result",
          "data": {
            "text/html": [
              "<div>\n",
              "<style scoped>\n",
              "    .dataframe tbody tr th:only-of-type {\n",
              "        vertical-align: middle;\n",
              "    }\n",
              "\n",
              "    .dataframe tbody tr th {\n",
              "        vertical-align: top;\n",
              "    }\n",
              "\n",
              "    .dataframe thead th {\n",
              "        text-align: right;\n",
              "    }\n",
              "</style>\n",
              "<table border=\"1\" class=\"dataframe\">\n",
              "  <thead>\n",
              "    <tr style=\"text-align: right;\">\n",
              "      <th></th>\n",
              "      <th>1. open</th>\n",
              "      <th>2. high</th>\n",
              "      <th>3. low</th>\n",
              "      <th>4. close</th>\n",
              "      <th>5. volume</th>\n",
              "    </tr>\n",
              "  </thead>\n",
              "  <tbody>\n",
              "    <tr>\n",
              "      <th>0</th>\n",
              "      <td>19.00</td>\n",
              "      <td>25.0000</td>\n",
              "      <td>17.54</td>\n",
              "      <td>23.89</td>\n",
              "      <td>18766300.0</td>\n",
              "    </tr>\n",
              "    <tr>\n",
              "      <th>1</th>\n",
              "      <td>25.79</td>\n",
              "      <td>30.4192</td>\n",
              "      <td>23.30</td>\n",
              "      <td>23.83</td>\n",
              "      <td>17187100.0</td>\n",
              "    </tr>\n",
              "    <tr>\n",
              "      <th>2</th>\n",
              "      <td>25.00</td>\n",
              "      <td>25.9200</td>\n",
              "      <td>20.27</td>\n",
              "      <td>21.96</td>\n",
              "      <td>8218800.0</td>\n",
              "    </tr>\n",
              "    <tr>\n",
              "      <th>3</th>\n",
              "      <td>23.00</td>\n",
              "      <td>23.1000</td>\n",
              "      <td>18.71</td>\n",
              "      <td>19.20</td>\n",
              "      <td>5139800.0</td>\n",
              "    </tr>\n",
              "    <tr>\n",
              "      <th>4</th>\n",
              "      <td>20.00</td>\n",
              "      <td>20.0000</td>\n",
              "      <td>15.83</td>\n",
              "      <td>16.11</td>\n",
              "      <td>6866900.0</td>\n",
              "    </tr>\n",
              "  </tbody>\n",
              "</table>\n",
              "</div>"
            ],
            "text/plain": [
              "   1. open  2. high  3. low  4. close   5. volume\n",
              "0    19.00  25.0000   17.54     23.89  18766300.0\n",
              "1    25.79  30.4192   23.30     23.83  17187100.0\n",
              "2    25.00  25.9200   20.27     21.96   8218800.0\n",
              "3    23.00  23.1000   18.71     19.20   5139800.0\n",
              "4    20.00  20.0000   15.83     16.11   6866900.0"
            ]
          },
          "metadata": {
            "tags": []
          },
          "execution_count": 209
        }
      ]
    },
    {
      "cell_type": "code",
      "metadata": {
        "id": "ViSHxE7V1OXT",
        "colab_type": "code",
        "colab": {
          "base_uri": "https://localhost:8080/",
          "height": 282
        },
        "outputId": "09fff6b5-1b93-4187-9d7b-8e6585fb06ce"
      },
      "source": [
        "plt.plot(df['4. close'][-30:])"
      ],
      "execution_count": 210,
      "outputs": [
        {
          "output_type": "execute_result",
          "data": {
            "text/plain": [
              "[<matplotlib.lines.Line2D at 0x7fded1128eb8>]"
            ]
          },
          "metadata": {
            "tags": []
          },
          "execution_count": 210
        },
        {
          "output_type": "display_data",
          "data": {
            "image/png": "[encoded data removed]",
            "text/plain": [
              "<Figure size 432x288 with 1 Axes>"
            ]
          },
          "metadata": {
            "tags": [],
            "needs_background": "light"
          }
        }
      ]
    },
    {
      "cell_type": "markdown",
      "metadata": {
        "id": "YMCySCKGdx1j",
        "colab_type": "text"
      },
      "source": [
        "# Data preprocessing"
      ]
    },
    {
      "cell_type": "code",
      "metadata": {
        "id": "LZxrj721dx1k",
        "colab_type": "code",
        "colab": {
          "base_uri": "https://localhost:8080/",
          "height": 206
        },
        "outputId": "4509b394-dc61-4cc6-b643-7b0c8ad17dd9"
      },
      "source": [
        "df.columns = ['o', 'h', 'l', 'c', 'vol'] #Renaming columns\n",
        "color, rng, u_shadow, l_shadow, ub, lb = [], [], [], [], [], []\n",
        "\n",
        "for ind in df.index:\n",
        "    rng.append(df['h'][ind] - df['l'][ind]) #Calculating range\n",
        "    \n",
        "    if df['o'][ind] > df['c'][ind]:\n",
        "        color.append('red') #open higher than close --> bearishness\n",
        "    else:\n",
        "        color.append('blue') #open is lower than or equal to close --> bulllishness\n",
        "\n",
        "    if color[::-1] == 'red':  #Determining shadow length and bounds for red candles\n",
        "        u_shadow.append(df['h'][ind] - df['o'][ind])\n",
        "        l_shadow.append(df['c'][ind] - df['l'][ind])\n",
        "        ub.append(df['o'][ind])\n",
        "        lb.append(df['c'][ind])\n",
        "    else: #Determining shadow length and bounds for blue candles\n",
        "        u_shadow.append(df['h'][ind] - df['c'][ind])\n",
        "        l_shadow.append(df['o'][ind] - df['l'][ind])\n",
        "        ub.append(df['c'][ind])\n",
        "        lb.append(df['o'][ind])\n",
        "        \n",
        "df['color'] = color\n",
        "df['range'] = rng\n",
        "df['u_shadow'] = u_shadow\n",
        "df['l_shadow'] = l_shadow\n",
        "df['u_bound'] = ub\n",
        "df['l_bound'] = lb\n",
        "df.head()"
      ],
      "execution_count": 211,
      "outputs": [
        {
          "output_type": "execute_result",
          "data": {
            "text/html": [
              "<div>\n",
              "<style scoped>\n",
              "    .dataframe tbody tr th:only-of-type {\n",
              "        vertical-align: middle;\n",
              "    }\n",
              "\n",
              "    .dataframe tbody tr th {\n",
              "        vertical-align: top;\n",
              "    }\n",
              "\n",
              "    .dataframe thead th {\n",
              "        text-align: right;\n",
              "    }\n",
              "</style>\n",
              "<table border=\"1\" class=\"dataframe\">\n",
              "  <thead>\n",
              "    <tr style=\"text-align: right;\">\n",
              "      <th></th>\n",
              "      <th>o</th>\n",
              "      <th>h</th>\n",
              "      <th>l</th>\n",
              "      <th>c</th>\n",
              "      <th>vol</th>\n",
              "      <th>color</th>\n",
              "      <th>range</th>\n",
              "      <th>u_shadow</th>\n",
              "      <th>l_shadow</th>\n",
              "      <th>u_bound</th>\n",
              "      <th>l_bound</th>\n",
              "    </tr>\n",
              "  </thead>\n",
              "  <tbody>\n",
              "    <tr>\n",
              "      <th>0</th>\n",
              "      <td>19.00</td>\n",
              "      <td>25.0000</td>\n",
              "      <td>17.54</td>\n",
              "      <td>23.89</td>\n",
              "      <td>18766300.0</td>\n",
              "      <td>blue</td>\n",
              "      <td>7.4600</td>\n",
              "      <td>1.1100</td>\n",
              "      <td>1.46</td>\n",
              "      <td>23.89</td>\n",
              "      <td>19.00</td>\n",
              "    </tr>\n",
              "    <tr>\n",
              "      <th>1</th>\n",
              "      <td>25.79</td>\n",
              "      <td>30.4192</td>\n",
              "      <td>23.30</td>\n",
              "      <td>23.83</td>\n",
              "      <td>17187100.0</td>\n",
              "      <td>red</td>\n",
              "      <td>7.1192</td>\n",
              "      <td>6.5892</td>\n",
              "      <td>2.49</td>\n",
              "      <td>23.83</td>\n",
              "      <td>25.79</td>\n",
              "    </tr>\n",
              "    <tr>\n",
              "      <th>2</th>\n",
              "      <td>25.00</td>\n",
              "      <td>25.9200</td>\n",
              "      <td>20.27</td>\n",
              "      <td>21.96</td>\n",
              "      <td>8218800.0</td>\n",
              "      <td>red</td>\n",
              "      <td>5.6500</td>\n",
              "      <td>3.9600</td>\n",
              "      <td>4.73</td>\n",
              "      <td>21.96</td>\n",
              "      <td>25.00</td>\n",
              "    </tr>\n",
              "    <tr>\n",
              "      <th>3</th>\n",
              "      <td>23.00</td>\n",
              "      <td>23.1000</td>\n",
              "      <td>18.71</td>\n",
              "      <td>19.20</td>\n",
              "      <td>5139800.0</td>\n",
              "      <td>red</td>\n",
              "      <td>4.3900</td>\n",
              "      <td>3.9000</td>\n",
              "      <td>4.29</td>\n",
              "      <td>19.20</td>\n",
              "      <td>23.00</td>\n",
              "    </tr>\n",
              "    <tr>\n",
              "      <th>4</th>\n",
              "      <td>20.00</td>\n",
              "      <td>20.0000</td>\n",
              "      <td>15.83</td>\n",
              "      <td>16.11</td>\n",
              "      <td>6866900.0</td>\n",
              "      <td>red</td>\n",
              "      <td>4.1700</td>\n",
              "      <td>3.8900</td>\n",
              "      <td>4.17</td>\n",
              "      <td>16.11</td>\n",
              "      <td>20.00</td>\n",
              "    </tr>\n",
              "  </tbody>\n",
              "</table>\n",
              "</div>"
            ],
            "text/plain": [
              "       o        h      l      c  ...  u_shadow l_shadow  u_bound  l_bound\n",
              "0  19.00  25.0000  17.54  23.89  ...    1.1100     1.46    23.89    19.00\n",
              "1  25.79  30.4192  23.30  23.83  ...    6.5892     2.49    23.83    25.79\n",
              "2  25.00  25.9200  20.27  21.96  ...    3.9600     4.73    21.96    25.00\n",
              "3  23.00  23.1000  18.71  19.20  ...    3.9000     4.29    19.20    23.00\n",
              "4  20.00  20.0000  15.83  16.11  ...    3.8900     4.17    16.11    20.00\n",
              "\n",
              "[5 rows x 11 columns]"
            ]
          },
          "metadata": {
            "tags": []
          },
          "execution_count": 211
        }
      ]
    },
    {
      "cell_type": "markdown",
      "metadata": {
        "id": "s1W6TDCeKebm",
        "colab_type": "text"
      },
      "source": [
        "## Function to find prior trend\n"
      ]
    },
    {
      "cell_type": "code",
      "metadata": {
        "id": "Zjict8hzqCIH",
        "colab_type": "code",
        "colab": {}
      },
      "source": [
        "def prior_trend(ind, df, span):\n",
        "  temp1 = []\n",
        "  temp2 = []\n",
        "  for i in range(ind - span, ind):\n",
        "    temp1.append(df[i])\n",
        "    temp2.append(float(i))\n",
        "  slope, inter, rval, pval, stderr = linregress(temp2, temp1)\n",
        "  if slope < 0:\n",
        "    trend = 'down'\n",
        "  else:\n",
        "    trend = 'up'\n",
        "  return trend"
      ],
      "execution_count": 212,
      "outputs": []
    },
    {
      "cell_type": "markdown",
      "metadata": {
        "id": "8IzsNTZddx1y",
        "colab_type": "text"
      },
      "source": [
        "# Single candlestick patterns"
      ]
    },
    {
      "cell_type": "code",
      "metadata": {
        "id": "JNQTWXwudx1z",
        "colab_type": "code",
        "colab": {
          "base_uri": "https://localhost:8080/",
          "height": 226
        },
        "outputId": "102cebab-4fad-4cdc-b71a-2c087ddcbd68"
      },
      "source": [
        "s_pattern = []\n",
        "for ind in df.index:\n",
        "    if df['u_shadow'][ind] == df['l_shadow'][ind]:\n",
        "        if df['range'][ind] >= 0.005:\n",
        "            s_pattern.append('spinning top')\n",
        "        else:\n",
        "            s_pattern.append('doji')\n",
        "    elif (df['u_shadow'][ind]/df['u_bound'][ind] <= 0.003 and\n",
        "          df['l_shadow'][ind]/df['l_bound'][ind] <= 0.003):\n",
        "        s_pattern.append('marubozu')\n",
        "    elif ((df['l_shadow'][ind] < 0.003 and \n",
        "           df['u_shadow'][ind] > 2*df['range'][ind]) and \n",
        "          prior_trend(ind, df['c'], 30) == 'up'):\n",
        "        s_pattern.append('shooting star')\n",
        "    elif df['u_shadow'][ind] < 0.003 and df['l_shadow'][ind] >= 2*df['range'][ind]:\n",
        "        if prior_trend(ind, df[c], 30) == 'down':\n",
        "          s_pattern.append('hammer')\n",
        "        else:\n",
        "          s_pattern.append('hanging')\n",
        "    else:\n",
        "        s_pattern.append('others')\n",
        "df['s_pattern'] = s_pattern\n",
        "df.tail()"
      ],
      "execution_count": 213,
      "outputs": [
        {
          "output_type": "execute_result",
          "data": {
            "text/html": [
              "<div>\n",
              "<style scoped>\n",
              "    .dataframe tbody tr th:only-of-type {\n",
              "        vertical-align: middle;\n",
              "    }\n",
              "\n",
              "    .dataframe tbody tr th {\n",
              "        vertical-align: top;\n",
              "    }\n",
              "\n",
              "    .dataframe thead th {\n",
              "        text-align: right;\n",
              "    }\n",
              "</style>\n",
              "<table border=\"1\" class=\"dataframe\">\n",
              "  <thead>\n",
              "    <tr style=\"text-align: right;\">\n",
              "      <th></th>\n",
              "      <th>o</th>\n",
              "      <th>h</th>\n",
              "      <th>l</th>\n",
              "      <th>c</th>\n",
              "      <th>vol</th>\n",
              "      <th>color</th>\n",
              "      <th>range</th>\n",
              "      <th>u_shadow</th>\n",
              "      <th>l_shadow</th>\n",
              "      <th>u_bound</th>\n",
              "      <th>l_bound</th>\n",
              "      <th>s_pattern</th>\n",
              "    </tr>\n",
              "  </thead>\n",
              "  <tbody>\n",
              "    <tr>\n",
              "      <th>2528</th>\n",
              "      <td>1543.00</td>\n",
              "      <td>1550.00</td>\n",
              "      <td>1457.0</td>\n",
              "      <td>1546.01</td>\n",
              "      <td>16368700.0</td>\n",
              "      <td>blue</td>\n",
              "      <td>93.00</td>\n",
              "      <td>3.99</td>\n",
              "      <td>86.00</td>\n",
              "      <td>1546.01</td>\n",
              "      <td>1543.00</td>\n",
              "      <td>others</td>\n",
              "    </tr>\n",
              "    <tr>\n",
              "      <th>2529</th>\n",
              "      <td>1477.16</td>\n",
              "      <td>1531.71</td>\n",
              "      <td>1466.0</td>\n",
              "      <td>1500.64</td>\n",
              "      <td>14300800.0</td>\n",
              "      <td>blue</td>\n",
              "      <td>65.71</td>\n",
              "      <td>31.07</td>\n",
              "      <td>11.16</td>\n",
              "      <td>1500.64</td>\n",
              "      <td>1477.16</td>\n",
              "      <td>others</td>\n",
              "    </tr>\n",
              "    <tr>\n",
              "      <th>2530</th>\n",
              "      <td>1513.45</td>\n",
              "      <td>1537.51</td>\n",
              "      <td>1490.0</td>\n",
              "      <td>1500.84</td>\n",
              "      <td>9332600.0</td>\n",
              "      <td>red</td>\n",
              "      <td>47.51</td>\n",
              "      <td>36.67</td>\n",
              "      <td>23.45</td>\n",
              "      <td>1500.84</td>\n",
              "      <td>1513.45</td>\n",
              "      <td>others</td>\n",
              "    </tr>\n",
              "    <tr>\n",
              "      <th>2531</th>\n",
              "      <td>1519.01</td>\n",
              "      <td>1650.00</td>\n",
              "      <td>1488.0</td>\n",
              "      <td>1643.00</td>\n",
              "      <td>16697300.0</td>\n",
              "      <td>blue</td>\n",
              "      <td>162.00</td>\n",
              "      <td>7.00</td>\n",
              "      <td>31.01</td>\n",
              "      <td>1643.00</td>\n",
              "      <td>1519.01</td>\n",
              "      <td>others</td>\n",
              "    </tr>\n",
              "    <tr>\n",
              "      <th>2532</th>\n",
              "      <td>1639.93</td>\n",
              "      <td>1675.00</td>\n",
              "      <td>1558.0</td>\n",
              "      <td>1568.36</td>\n",
              "      <td>16029800.0</td>\n",
              "      <td>red</td>\n",
              "      <td>117.00</td>\n",
              "      <td>106.64</td>\n",
              "      <td>81.93</td>\n",
              "      <td>1568.36</td>\n",
              "      <td>1639.93</td>\n",
              "      <td>others</td>\n",
              "    </tr>\n",
              "  </tbody>\n",
              "</table>\n",
              "</div>"
            ],
            "text/plain": [
              "            o        h       l        c  ...  l_shadow  u_bound  l_bound  s_pattern\n",
              "2528  1543.00  1550.00  1457.0  1546.01  ...     86.00  1546.01  1543.00     others\n",
              "2529  1477.16  1531.71  1466.0  1500.64  ...     11.16  1500.64  1477.16     others\n",
              "2530  1513.45  1537.51  1490.0  1500.84  ...     23.45  1500.84  1513.45     others\n",
              "2531  1519.01  1650.00  1488.0  1643.00  ...     31.01  1643.00  1519.01     others\n",
              "2532  1639.93  1675.00  1558.0  1568.36  ...     81.93  1568.36  1639.93     others\n",
              "\n",
              "[5 rows x 12 columns]"
            ]
          },
          "metadata": {
            "tags": []
          },
          "execution_count": 213
        }
      ]
    },
    {
      "cell_type": "markdown",
      "metadata": {
        "id": "XdfhGQ7pdx1-",
        "colab_type": "text"
      },
      "source": [
        "## Analysing single candlestick pattern detection results"
      ]
    },
    {
      "cell_type": "code",
      "metadata": {
        "id": "4p1VPDFFdx2A",
        "colab_type": "code",
        "colab": {
          "base_uri": "https://localhost:8080/",
          "height": 86
        },
        "outputId": "a2ff3f67-0ea3-47b4-82e1-e8f8455d096f"
      },
      "source": [
        "count = df['s_pattern'].value_counts()\n",
        "print(count)"
      ],
      "execution_count": 214,
      "outputs": [
        {
          "output_type": "stream",
          "text": [
            "others          2471\n",
            "marubozu          54\n",
            "spinning top       8\n",
            "Name: s_pattern, dtype: int64\n"
          ],
          "name": "stdout"
        }
      ]
    },
    {
      "cell_type": "code",
      "metadata": {
        "id": "3tIt24_xG-jP",
        "colab_type": "code",
        "colab": {
          "base_uri": "https://localhost:8080/",
          "height": 1000
        },
        "outputId": "996d8547-1c5f-4a67-c386-bb26a9bcbd73"
      },
      "source": [
        "for ind in df.index:\n",
        "  if df['s_pattern'][ind] != 'others':\n",
        "    print(df.loc[[ind]])"
      ],
      "execution_count": 215,
      "outputs": [
        {
          "output_type": "stream",
          "text": [
            "        o      h     l     c  ...  l_shadow u_bound  l_bound  s_pattern\n",
            "49  20.66  20.95  20.6  20.9  ...      0.06    20.9    20.66   marubozu\n",
            "\n",
            "[1 rows x 12 columns]\n",
            "        o      h      l      c  ...  l_shadow u_bound  l_bound  s_pattern\n",
            "64  21.19  22.03  21.13  21.98  ...      0.06   21.98    21.19   marubozu\n",
            "\n",
            "[1 rows x 12 columns]\n",
            "         o      h     l     c  ...  l_shadow u_bound  l_bound  s_pattern\n",
            "102  31.57  33.45  31.5  33.4  ...      0.07    33.4    31.57   marubozu\n",
            "\n",
            "[1 rows x 12 columns]\n",
            "         o      h      l     c  ...  l_shadow u_bound  l_bound     s_pattern\n",
            "211  27.69  27.87  27.42  27.6  ...      0.27    27.6    27.69  spinning top\n",
            "\n",
            "[1 rows x 12 columns]\n",
            "         o      h      l      c  ...  l_shadow u_bound  l_bound     s_pattern\n",
            "232  29.69  30.28  29.55  30.14  ...      0.14   30.14    29.69  spinning top\n",
            "\n",
            "[1 rows x 12 columns]\n",
            "         o     h        l      c  ...  l_shadow u_bound  l_bound  s_pattern\n",
            "351  33.48  35.0  33.4029  34.94  ...    0.0771   34.94    33.48   marubozu\n",
            "\n",
            "[1 rows x 12 columns]\n",
            "         o      h      l      c  ...  l_shadow u_bound  l_bound     s_pattern\n",
            "371  28.67  29.17  28.12  28.62  ...      0.55   28.62    28.67  spinning top\n",
            "\n",
            "[1 rows x 12 columns]\n",
            "         o      h      l      c  ...  l_shadow u_bound  l_bound  s_pattern\n",
            "460  32.07  32.99  32.07  32.91  ...       0.0   32.91    32.07   marubozu\n",
            "\n",
            "[1 rows x 12 columns]\n",
            "         o      h      l      c  ...  l_shadow u_bound  l_bound  s_pattern\n",
            "461  32.96  33.52  32.91  33.49  ...      0.05   33.49    32.96   marubozu\n",
            "\n",
            "[1 rows x 12 columns]\n",
            "         o      h      l      c  ...  l_shadow u_bound  l_bound     s_pattern\n",
            "535  29.31  29.94  29.31  29.94  ...       0.0   29.94    29.31  spinning top\n",
            "\n",
            "[1 rows x 12 columns]\n",
            "         o      h     l     c  ...  l_shadow u_bound  l_bound  s_pattern\n",
            "539  29.53  30.39  29.5  30.3  ...      0.03    30.3    29.53   marubozu\n",
            "\n",
            "[1 rows x 12 columns]\n",
            "         o     h      l     c  ...  l_shadow u_bound  l_bound  s_pattern\n",
            "622  33.77  34.5  33.75  34.4  ...      0.02    34.4    33.77   marubozu\n",
            "\n",
            "[1 rows x 12 columns]\n",
            "         o      h      l      c  ...  l_shadow u_bound  l_bound  s_pattern\n",
            "627  33.64  34.35  33.55  34.28  ...      0.09   34.28    33.64   marubozu\n",
            "\n",
            "[1 rows x 12 columns]\n",
            "        o      h     l      c  ...  l_shadow u_bound  l_bound  s_pattern\n",
            "631  33.0  33.97  33.0  33.87  ...       0.0   33.87     33.0   marubozu\n",
            "\n",
            "[1 rows x 12 columns]\n",
            "         o      h      l      c  ...  l_shadow u_bound  l_bound  s_pattern\n",
            "664  37.36  39.29  37.31  39.28  ...      0.05   39.28    37.36   marubozu\n",
            "\n",
            "[1 rows x 12 columns]\n",
            "          o       h       l       c  ...  l_shadow u_bound  l_bound  s_pattern\n",
            "780  140.01  144.89  139.65  144.68  ...      0.36  144.68   140.01   marubozu\n",
            "\n",
            "[1 rows x 12 columns]\n",
            "          o       h       l       c  ...  l_shadow u_bound  l_bound     s_pattern\n",
            "853  136.85  137.95  134.35  135.45  ...       2.5  135.45   136.85  spinning top\n",
            "\n",
            "[1 rows x 12 columns]\n",
            "           o       h       l       c  ...  l_shadow u_bound  l_bound  s_pattern\n",
            "1049  261.89  264.48  261.64  263.86  ...      0.25  263.86   261.89   marubozu\n",
            "\n",
            "[1 rows x 12 columns]\n",
            "           o       h      l       c  ...  l_shadow u_bound  l_bound  s_pattern\n",
            "1101  242.55  251.82  242.0  251.08  ...      0.55  251.08   242.55   marubozu\n",
            "\n",
            "[1 rows x 12 columns]\n",
            "           o       h      l       c  ...  l_shadow u_bound  l_bound  s_pattern\n",
            "1127  212.38  218.44  211.8  218.26  ...      0.58  218.26   212.38   marubozu\n",
            "\n",
            "[1 rows x 12 columns]\n",
            "           o      h       l       c  ...  l_shadow u_bound  l_bound  s_pattern\n",
            "1131  219.77  222.5  219.25  222.26  ...      0.52  222.26   219.77   marubozu\n",
            "\n",
            "[1 rows x 12 columns]\n",
            "           o      h      l       c  ...  l_shadow u_bound  l_bound  s_pattern\n",
            "1132  221.51  228.5  221.5  227.82  ...      0.01  227.82   221.51   marubozu\n",
            "\n",
            "[1 rows x 12 columns]\n",
            "           o         h       l       c  ...  l_shadow u_bound  l_bound  s_pattern\n",
            "1164  193.57  203.0882  193.28  202.88  ...      0.29  202.88   193.57   marubozu\n",
            "\n",
            "[1 rows x 12 columns]\n",
            "          o      h       l       c  ...  l_shadow u_bound  l_bound  s_pattern\n",
            "1242  246.0  249.7  245.68  249.14  ...      0.32  249.14    246.0   marubozu\n",
            "\n",
            "[1 rows x 12 columns]\n",
            "           o       h       l       c  ...  l_shadow u_bound  l_bound  s_pattern\n",
            "1280  262.69  266.94  262.11  266.79  ...      0.58  266.79   262.69   marubozu\n",
            "\n",
            "[1 rows x 12 columns]\n",
            "           o       h       l       c  ...  l_shadow u_bound  l_bound  s_pattern\n",
            "1313  253.04  262.88  252.88  262.25  ...      0.16  262.25   253.04   marubozu\n",
            "\n",
            "[1 rows x 12 columns]\n",
            "          o      h       l       c  ...  l_shadow u_bound  l_bound  s_pattern\n",
            "1325  235.6  247.7  234.93  247.57  ...      0.67  247.57    235.6   marubozu\n",
            "\n",
            "[1 rows x 12 columns]\n",
            "           o       h        l       c  ...  l_shadow u_bound  l_bound  s_pattern\n",
            "1385  230.06  237.72  229.547  237.19  ...     0.513  237.19   230.06   marubozu\n",
            "\n",
            "[1 rows x 12 columns]\n",
            "           o       h       l       c  ...  l_shadow u_bound  l_bound  s_pattern\n",
            "1484  216.99  220.55  216.35  220.28  ...      0.64  220.28   216.99   marubozu\n",
            "\n",
            "[1 rows x 12 columns]\n",
            "          o       h       l       c  ...  l_shadow u_bound  l_bound  s_pattern\n",
            "1532  230.7  235.28  230.24  234.79  ...      0.46  234.79    230.7   marubozu\n",
            "\n",
            "[1 rows x 12 columns]\n",
            "           o       h      l       c  ...  l_shadow u_bound  l_bound  s_pattern\n",
            "1558  199.02  203.25  199.0  202.83  ...      0.02  202.83   199.02   marubozu\n",
            "\n",
            "[1 rows x 12 columns]\n",
            "           o      h       l       c  ...  l_shadow u_bound  l_bound     s_pattern\n",
            "1595  211.34  213.7  201.65  204.01  ...      9.69  204.01   211.34  spinning top\n",
            "\n",
            "[1 rows x 12 columns]\n",
            "           o         h       l       c  ...  l_shadow u_bound  l_bound  s_pattern\n",
            "1615  193.64  197.2372  193.64  196.65  ...       0.0  196.65   193.64   marubozu\n",
            "\n",
            "[1 rows x 12 columns]\n",
            "           o       h      l       c  ...  l_shadow u_bound  l_bound  s_pattern\n",
            "1630  198.08  202.59  197.6  202.49  ...      0.48  202.49   198.08   marubozu\n",
            "\n",
            "[1 rows x 12 columns]\n",
            "           o      h      l       c  ...  l_shadow u_bound  l_bound  s_pattern\n",
            "1632  203.05  209.0  202.5  208.79  ...      0.55  208.79   203.05   marubozu\n",
            "\n",
            "[1 rows x 12 columns]\n",
            "          o       h       l       c  ...  l_shadow u_bound  l_bound  s_pattern\n",
            "1635  208.0  213.45  207.71  213.34  ...      0.29  213.34    208.0   marubozu\n",
            "\n",
            "[1 rows x 12 columns]\n",
            "          o       h       l       c  ...  l_shadow u_bound  l_bound  s_pattern\n",
            "1648  230.0  237.85  229.59  237.75  ...      0.41  237.75    230.0   marubozu\n",
            "\n",
            "[1 rows x 12 columns]\n",
            "          o      h       l       c  ...  l_shadow u_bound  l_bound  s_pattern\n",
            "1654  250.0  254.8  249.65  254.61  ...      0.35  254.61    250.0   marubozu\n",
            "\n",
            "[1 rows x 12 columns]\n",
            "          o       h       l       c  ...  l_shadow u_bound  l_bound  s_pattern\n",
            "1663  251.0  257.82  250.63  257.77  ...      0.37  257.77    251.0   marubozu\n",
            "\n",
            "[1 rows x 12 columns]\n",
            "           o       h       l      c  ...  l_shadow u_bound  l_bound  s_pattern\n",
            "1668  270.74  280.79  270.51  280.6  ...      0.23   280.6   270.74   marubozu\n",
            "\n",
            "[1 rows x 12 columns]\n",
            "           o      h       l       c  ...  l_shadow u_bound  l_bound  s_pattern\n",
            "1682  247.91  251.7  247.51  251.21  ...       0.4  251.21   247.91   marubozu\n",
            "\n",
            "[1 rows x 12 columns]\n",
            "           o       h       l      c  ...  l_shadow u_bound  l_bound  s_pattern\n",
            "1688  246.11  258.12  246.02  258.0  ...      0.09   258.0   246.11   marubozu\n",
            "\n",
            "[1 rows x 12 columns]\n",
            "          o       h       l       c  ...  l_shadow u_bound  l_bound  s_pattern\n",
            "1696  255.7  263.89  255.01  263.16  ...      0.69  263.16    255.7   marubozu\n",
            "\n",
            "[1 rows x 12 columns]\n",
            "          o       h       l       c  ...  l_shadow u_bound  l_bound  s_pattern\n",
            "1706  297.5  302.69  297.15  302.54  ...      0.35  302.54    297.5   marubozu\n",
            "\n",
            "[1 rows x 12 columns]\n",
            "           o       h      l       c  ...  l_shadow u_bound  l_bound  s_pattern\n",
            "1727  309.38  321.99  309.1  321.26  ...      0.28  321.26   309.38   marubozu\n",
            "\n",
            "[1 rows x 12 columns]\n",
            "           o      h       l       c  ...  l_shadow u_bound  l_bound  s_pattern\n",
            "1751  367.62  376.0  366.61  375.95  ...      1.01  375.95   367.62   marubozu\n",
            "\n",
            "[1 rows x 12 columns]\n",
            "           o      h       l       c  ...  l_shadow u_bound  l_bound  s_pattern\n",
            "1779  330.24  343.4  330.01  342.52  ...      0.23  342.52   330.24   marubozu\n",
            "\n",
            "[1 rows x 12 columns]\n",
            "           o       h      l       c  ...  l_shadow u_bound  l_bound  s_pattern\n",
            "1801  338.99  353.49  338.3  352.77  ...      0.69  352.77   338.99   marubozu\n",
            "\n",
            "[1 rows x 12 columns]\n",
            "           o       h       l       c  ...  l_shadow u_bound  l_bound  s_pattern\n",
            "1839  350.91  356.22  350.07  355.75  ...      0.84  355.75   350.91   marubozu\n",
            "\n",
            "[1 rows x 12 columns]\n",
            "           o       h       l       c  ...  l_shadow u_bound  l_bound  s_pattern\n",
            "1849  320.23  331.95  320.18  331.53  ...      0.05  331.53   320.23   marubozu\n",
            "\n",
            "[1 rows x 12 columns]\n",
            "          o       h      l       c  ...  l_shadow u_bound  l_bound  s_pattern\n",
            "1874  300.1  313.39  300.0  313.26  ...       0.1  313.26    300.1   marubozu\n",
            "\n",
            "[1 rows x 12 columns]\n",
            "           o       h       l       c  ...  l_shadow u_bound  l_bound  s_pattern\n",
            "1877  314.63  329.01  313.75  328.91  ...      0.88  328.91   314.63   marubozu\n",
            "\n",
            "[1 rows x 12 columns]\n",
            "           o       h       l       c  ...  l_shadow u_bound  l_bound  s_pattern\n",
            "1878  330.45  341.44  330.03  341.03  ...      0.42  341.03   330.45   marubozu\n",
            "\n",
            "[1 rows x 12 columns]\n",
            "          o         h      l       c  ...  l_shadow u_bound  l_bound  s_pattern\n",
            "1895  316.0  337.0199  315.5  336.41  ...       0.5  336.41    316.0   marubozu\n",
            "\n",
            "[1 rows x 12 columns]\n",
            "          o      h      l      c  ...  l_shadow u_bound  l_bound     s_pattern\n",
            "1897  332.2  337.0  330.0  334.8  ...       2.2   334.8    332.2  spinning top\n",
            "\n",
            "[1 rows x 12 columns]\n",
            "           o       h       l       c  ...  l_shadow u_bound  l_bound  s_pattern\n",
            "1979  300.41  307.01  300.05  306.85  ...      0.36  306.85   300.41   marubozu\n",
            "\n",
            "[1 rows x 12 columns]\n",
            "           o       h      l       c  ...  l_shadow u_bound  l_bound     s_pattern\n",
            "2004  347.63  358.75  346.6  357.72  ...      1.03  357.72   347.63  spinning top\n",
            "\n",
            "[1 rows x 12 columns]\n",
            "          o       h      l      c  ...  l_shadow u_bound  l_bound  s_pattern\n",
            "2118  325.0  346.22  325.0  346.0  ...       0.0   346.0    325.0   marubozu\n",
            "\n",
            "[1 rows x 12 columns]\n",
            "          o      h      l       c  ...  l_shadow u_bound  l_bound  s_pattern\n",
            "2173  304.5  308.0  303.9  307.88  ...       0.6  307.88    304.5   marubozu\n",
            "\n",
            "[1 rows x 12 columns]\n",
            "           o       h         l       c  ...  l_shadow u_bound  l_bound  s_pattern\n",
            "2200  268.75  275.37  268.1838  274.83  ...    0.5662  274.83   268.75   marubozu\n",
            "\n",
            "[1 rows x 12 columns]\n",
            "           o       h       l       c  ...  l_shadow u_bound  l_bound  s_pattern\n",
            "2274  239.75  245.38  239.71  245.08  ...      0.04  245.08   239.75   marubozu\n",
            "\n",
            "[1 rows x 12 columns]\n",
            "           o       h      l       c  ...  l_shadow u_bound  l_bound  s_pattern\n",
            "2396  440.47  451.56  440.0  451.54  ...      0.47  451.54   440.47   marubozu\n",
            "\n",
            "[1 rows x 12 columns]\n"
          ],
          "name": "stdout"
        }
      ]
    },
    {
      "cell_type": "markdown",
      "metadata": {
        "id": "ahkuLhQRK3N0",
        "colab_type": "text"
      },
      "source": [
        "# Multiple candlestick patterns"
      ]
    },
    {
      "cell_type": "code",
      "metadata": {
        "id": "IY0fxqnQK8sT",
        "colab_type": "code",
        "colab": {
          "base_uri": "https://localhost:8080/",
          "height": 556
        },
        "outputId": "02626486-8d27-4aea-8cd2-c1215e64563e"
      },
      "source": [
        "m_pattern = []\n",
        "for ind in df.index:\n",
        "  if (prior_trend(ind, df['c'], 30) == 'down'): \n",
        "     if (df['color'][ind]  == 'red'): \n",
        "        if (df['color'][ind+1] == 'blue'):\n",
        "          if (df['range'][ind+1] > df['range'][ind]):\n",
        "            if (df['open'][ind+1] <= df['close'][ind]):\n",
        "              m_pattern.append('bullEngulf')\n",
        "              m_pattern.append('bullEngulf')\n",
        "  elif ((prior_trend(ind, df['c'], 30) == 'up') and\n",
        "        (df['color'][ind]  == 'blue') and\n",
        "        (df['color'][ind+1] == 'red') and\n",
        "        (df['range'][ind+1] > df['range'][ind]) and\n",
        "        (df['open'][ind+1] <= df['close'][ind])):\n",
        "      m_pattern.append('bearEngulf')\n",
        "      m_pattern.append('bearEngulf')"
      ],
      "execution_count": 216,
      "outputs": [
        {
          "output_type": "error",
          "ename": "KeyError",
          "evalue": "ignored",
          "traceback": [
            "\u001b[0;31m---------------------------------------------------------------------------\u001b[0m",
            "\u001b[0;31mKeyError\u001b[0m                                  Traceback (most recent call last)",
            "\u001b[0;32m<ipython-input-216-d9a51d5891c8>\u001b[0m in \u001b[0;36m<module>\u001b[0;34m()\u001b[0m\n\u001b[1;32m      1\u001b[0m \u001b[0mm_pattern\u001b[0m \u001b[0;34m=\u001b[0m \u001b[0;34m[\u001b[0m\u001b[0;34m]\u001b[0m\u001b[0;34m\u001b[0m\u001b[0;34m\u001b[0m\u001b[0m\n\u001b[1;32m      2\u001b[0m \u001b[0;32mfor\u001b[0m \u001b[0mind\u001b[0m \u001b[0;32min\u001b[0m \u001b[0mdf\u001b[0m\u001b[0;34m.\u001b[0m\u001b[0mindex\u001b[0m\u001b[0;34m:\u001b[0m\u001b[0;34m\u001b[0m\u001b[0;34m\u001b[0m\u001b[0m\n\u001b[0;32m----> 3\u001b[0;31m   \u001b[0;32mif\u001b[0m \u001b[0;34m(\u001b[0m\u001b[0mprior_trend\u001b[0m\u001b[0;34m(\u001b[0m\u001b[0mind\u001b[0m\u001b[0;34m,\u001b[0m \u001b[0mdf\u001b[0m\u001b[0;34m[\u001b[0m\u001b[0;34m'c'\u001b[0m\u001b[0;34m]\u001b[0m\u001b[0;34m,\u001b[0m \u001b[0;36m30\u001b[0m\u001b[0;34m)\u001b[0m \u001b[0;34m==\u001b[0m \u001b[0;34m'down'\u001b[0m\u001b[0;34m)\u001b[0m\u001b[0;34m:\u001b[0m\u001b[0;34m\u001b[0m\u001b[0;34m\u001b[0m\u001b[0m\n\u001b[0m\u001b[1;32m      4\u001b[0m      \u001b[0;32mif\u001b[0m \u001b[0;34m(\u001b[0m\u001b[0mdf\u001b[0m\u001b[0;34m[\u001b[0m\u001b[0;34m'color'\u001b[0m\u001b[0;34m]\u001b[0m\u001b[0;34m[\u001b[0m\u001b[0mind\u001b[0m\u001b[0;34m]\u001b[0m  \u001b[0;34m==\u001b[0m \u001b[0;34m'red'\u001b[0m\u001b[0;34m)\u001b[0m\u001b[0;34m:\u001b[0m\u001b[0;34m\u001b[0m\u001b[0;34m\u001b[0m\u001b[0m\n\u001b[1;32m      5\u001b[0m         \u001b[0;32mif\u001b[0m \u001b[0;34m(\u001b[0m\u001b[0mdf\u001b[0m\u001b[0;34m[\u001b[0m\u001b[0;34m'color'\u001b[0m\u001b[0;34m]\u001b[0m\u001b[0;34m[\u001b[0m\u001b[0mind\u001b[0m\u001b[0;34m+\u001b[0m\u001b[0;36m1\u001b[0m\u001b[0;34m]\u001b[0m \u001b[0;34m==\u001b[0m \u001b[0;34m'blue'\u001b[0m\u001b[0;34m)\u001b[0m\u001b[0;34m:\u001b[0m\u001b[0;34m\u001b[0m\u001b[0;34m\u001b[0m\u001b[0m\n",
            "\u001b[0;32m<ipython-input-212-970264463b5d>\u001b[0m in \u001b[0;36mprior_trend\u001b[0;34m(ind, df, span)\u001b[0m\n\u001b[1;32m      3\u001b[0m   \u001b[0mtemp2\u001b[0m \u001b[0;34m=\u001b[0m \u001b[0;34m[\u001b[0m\u001b[0;34m]\u001b[0m\u001b[0;34m\u001b[0m\u001b[0;34m\u001b[0m\u001b[0m\n\u001b[1;32m      4\u001b[0m   \u001b[0;32mfor\u001b[0m \u001b[0mi\u001b[0m \u001b[0;32min\u001b[0m \u001b[0mrange\u001b[0m\u001b[0;34m(\u001b[0m\u001b[0mind\u001b[0m \u001b[0;34m-\u001b[0m \u001b[0mspan\u001b[0m\u001b[0;34m,\u001b[0m \u001b[0mind\u001b[0m\u001b[0;34m)\u001b[0m\u001b[0;34m:\u001b[0m\u001b[0;34m\u001b[0m\u001b[0;34m\u001b[0m\u001b[0m\n\u001b[0;32m----> 5\u001b[0;31m     \u001b[0mtemp1\u001b[0m\u001b[0;34m.\u001b[0m\u001b[0mappend\u001b[0m\u001b[0;34m(\u001b[0m\u001b[0mdf\u001b[0m\u001b[0;34m[\u001b[0m\u001b[0mi\u001b[0m\u001b[0;34m]\u001b[0m\u001b[0;34m)\u001b[0m\u001b[0;34m\u001b[0m\u001b[0;34m\u001b[0m\u001b[0m\n\u001b[0m\u001b[1;32m      6\u001b[0m     \u001b[0mtemp2\u001b[0m\u001b[0;34m.\u001b[0m\u001b[0mappend\u001b[0m\u001b[0;34m(\u001b[0m\u001b[0mfloat\u001b[0m\u001b[0;34m(\u001b[0m\u001b[0mi\u001b[0m\u001b[0;34m)\u001b[0m\u001b[0;34m)\u001b[0m\u001b[0;34m\u001b[0m\u001b[0;34m\u001b[0m\u001b[0m\n\u001b[1;32m      7\u001b[0m   \u001b[0mslope\u001b[0m\u001b[0;34m,\u001b[0m \u001b[0minter\u001b[0m\u001b[0;34m,\u001b[0m \u001b[0mrval\u001b[0m\u001b[0;34m,\u001b[0m \u001b[0mpval\u001b[0m\u001b[0;34m,\u001b[0m \u001b[0mstderr\u001b[0m \u001b[0;34m=\u001b[0m \u001b[0mlinregress\u001b[0m\u001b[0;34m(\u001b[0m\u001b[0mtemp2\u001b[0m\u001b[0;34m,\u001b[0m \u001b[0mtemp1\u001b[0m\u001b[0;34m)\u001b[0m\u001b[0;34m\u001b[0m\u001b[0;34m\u001b[0m\u001b[0m\n",
            "\u001b[0;32m/usr/local/lib/python3.6/dist-packages/pandas/core/series.py\u001b[0m in \u001b[0;36m__getitem__\u001b[0;34m(self, key)\u001b[0m\n\u001b[1;32m    869\u001b[0m         \u001b[0mkey\u001b[0m \u001b[0;34m=\u001b[0m \u001b[0mcom\u001b[0m\u001b[0;34m.\u001b[0m\u001b[0mapply_if_callable\u001b[0m\u001b[0;34m(\u001b[0m\u001b[0mkey\u001b[0m\u001b[0;34m,\u001b[0m \u001b[0mself\u001b[0m\u001b[0;34m)\u001b[0m\u001b[0;34m\u001b[0m\u001b[0;34m\u001b[0m\u001b[0m\n\u001b[1;32m    870\u001b[0m         \u001b[0;32mtry\u001b[0m\u001b[0;34m:\u001b[0m\u001b[0;34m\u001b[0m\u001b[0;34m\u001b[0m\u001b[0m\n\u001b[0;32m--> 871\u001b[0;31m             \u001b[0mresult\u001b[0m \u001b[0;34m=\u001b[0m \u001b[0mself\u001b[0m\u001b[0;34m.\u001b[0m\u001b[0mindex\u001b[0m\u001b[0;34m.\u001b[0m\u001b[0mget_value\u001b[0m\u001b[0;34m(\u001b[0m\u001b[0mself\u001b[0m\u001b[0;34m,\u001b[0m \u001b[0mkey\u001b[0m\u001b[0;34m)\u001b[0m\u001b[0;34m\u001b[0m\u001b[0;34m\u001b[0m\u001b[0m\n\u001b[0m\u001b[1;32m    872\u001b[0m \u001b[0;34m\u001b[0m\u001b[0m\n\u001b[1;32m    873\u001b[0m             \u001b[0;32mif\u001b[0m \u001b[0;32mnot\u001b[0m \u001b[0mis_scalar\u001b[0m\u001b[0;34m(\u001b[0m\u001b[0mresult\u001b[0m\u001b[0;34m)\u001b[0m\u001b[0;34m:\u001b[0m\u001b[0;34m\u001b[0m\u001b[0;34m\u001b[0m\u001b[0m\n",
            "\u001b[0;32m/usr/local/lib/python3.6/dist-packages/pandas/core/indexes/base.py\u001b[0m in \u001b[0;36mget_value\u001b[0;34m(self, series, key)\u001b[0m\n\u001b[1;32m   4403\u001b[0m         \u001b[0mk\u001b[0m \u001b[0;34m=\u001b[0m \u001b[0mself\u001b[0m\u001b[0;34m.\u001b[0m\u001b[0m_convert_scalar_indexer\u001b[0m\u001b[0;34m(\u001b[0m\u001b[0mk\u001b[0m\u001b[0;34m,\u001b[0m \u001b[0mkind\u001b[0m\u001b[0;34m=\u001b[0m\u001b[0;34m\"getitem\"\u001b[0m\u001b[0;34m)\u001b[0m\u001b[0;34m\u001b[0m\u001b[0;34m\u001b[0m\u001b[0m\n\u001b[1;32m   4404\u001b[0m         \u001b[0;32mtry\u001b[0m\u001b[0;34m:\u001b[0m\u001b[0;34m\u001b[0m\u001b[0;34m\u001b[0m\u001b[0m\n\u001b[0;32m-> 4405\u001b[0;31m             \u001b[0;32mreturn\u001b[0m \u001b[0mself\u001b[0m\u001b[0;34m.\u001b[0m\u001b[0m_engine\u001b[0m\u001b[0;34m.\u001b[0m\u001b[0mget_value\u001b[0m\u001b[0;34m(\u001b[0m\u001b[0ms\u001b[0m\u001b[0;34m,\u001b[0m \u001b[0mk\u001b[0m\u001b[0;34m,\u001b[0m \u001b[0mtz\u001b[0m\u001b[0;34m=\u001b[0m\u001b[0mgetattr\u001b[0m\u001b[0;34m(\u001b[0m\u001b[0mseries\u001b[0m\u001b[0;34m.\u001b[0m\u001b[0mdtype\u001b[0m\u001b[0;34m,\u001b[0m \u001b[0;34m\"tz\"\u001b[0m\u001b[0;34m,\u001b[0m \u001b[0;32mNone\u001b[0m\u001b[0;34m)\u001b[0m\u001b[0;34m)\u001b[0m\u001b[0;34m\u001b[0m\u001b[0;34m\u001b[0m\u001b[0m\n\u001b[0m\u001b[1;32m   4406\u001b[0m         \u001b[0;32mexcept\u001b[0m \u001b[0mKeyError\u001b[0m \u001b[0;32mas\u001b[0m \u001b[0me1\u001b[0m\u001b[0;34m:\u001b[0m\u001b[0;34m\u001b[0m\u001b[0;34m\u001b[0m\u001b[0m\n\u001b[1;32m   4407\u001b[0m             \u001b[0;32mif\u001b[0m \u001b[0mlen\u001b[0m\u001b[0;34m(\u001b[0m\u001b[0mself\u001b[0m\u001b[0;34m)\u001b[0m \u001b[0;34m>\u001b[0m \u001b[0;36m0\u001b[0m \u001b[0;32mand\u001b[0m \u001b[0;34m(\u001b[0m\u001b[0mself\u001b[0m\u001b[0;34m.\u001b[0m\u001b[0mholds_integer\u001b[0m\u001b[0;34m(\u001b[0m\u001b[0;34m)\u001b[0m \u001b[0;32mor\u001b[0m \u001b[0mself\u001b[0m\u001b[0;34m.\u001b[0m\u001b[0mis_boolean\u001b[0m\u001b[0;34m(\u001b[0m\u001b[0;34m)\u001b[0m\u001b[0;34m)\u001b[0m\u001b[0;34m:\u001b[0m\u001b[0;34m\u001b[0m\u001b[0;34m\u001b[0m\u001b[0m\n",
            "\u001b[0;32mpandas/_libs/index.pyx\u001b[0m in \u001b[0;36mpandas._libs.index.IndexEngine.get_value\u001b[0;34m()\u001b[0m\n",
            "\u001b[0;32mpandas/_libs/index.pyx\u001b[0m in \u001b[0;36mpandas._libs.index.IndexEngine.get_value\u001b[0;34m()\u001b[0m\n",
            "\u001b[0;32mpandas/_libs/index.pyx\u001b[0m in \u001b[0;36mpandas._libs.index.IndexEngine.get_loc\u001b[0;34m()\u001b[0m\n",
            "\u001b[0;32mpandas/_libs/hashtable_class_helper.pxi\u001b[0m in \u001b[0;36mpandas._libs.hashtable.Int64HashTable.get_item\u001b[0;34m()\u001b[0m\n",
            "\u001b[0;32mpandas/_libs/hashtable_class_helper.pxi\u001b[0m in \u001b[0;36mpandas._libs.hashtable.Int64HashTable.get_item\u001b[0;34m()\u001b[0m\n",
            "\u001b[0;31mKeyError\u001b[0m: -30"
          ]
        }
      ]
    },
    {
      "cell_type": "code",
      "metadata": {
        "id": "vwDRHodtK89P",
        "colab_type": "code",
        "colab": {
          "base_uri": "https://localhost:8080/",
          "height": 556
        },
        "outputId": "b3c0153d-0a76-42c6-d51a-07014b017dd9"
      },
      "source": [
        "for ind in df.index:\n",
        "  if ((prior_trend(ind, df['c'], 5) == 'down') and\n",
        "      (df['color'][ind] == 'red') and\n",
        "      (df['color'][ind+1] == 'blue') and\n",
        "      (df['range'][ind+1] > df['range'][ind]) and\n",
        "      (df['o'][ind+1] <= df['c'][ind])):\n",
        "    m_pattern.append('bullEngulf')"
      ],
      "execution_count": 218,
      "outputs": [
        {
          "output_type": "error",
          "ename": "KeyError",
          "evalue": "ignored",
          "traceback": [
            "\u001b[0;31m---------------------------------------------------------------------------\u001b[0m",
            "\u001b[0;31mKeyError\u001b[0m                                  Traceback (most recent call last)",
            "\u001b[0;32m<ipython-input-218-6a153f4fbba8>\u001b[0m in \u001b[0;36m<module>\u001b[0;34m()\u001b[0m\n\u001b[1;32m      1\u001b[0m \u001b[0;32mfor\u001b[0m \u001b[0mind\u001b[0m \u001b[0;32min\u001b[0m \u001b[0mdf\u001b[0m\u001b[0;34m.\u001b[0m\u001b[0mindex\u001b[0m\u001b[0;34m:\u001b[0m\u001b[0;34m\u001b[0m\u001b[0;34m\u001b[0m\u001b[0m\n\u001b[0;32m----> 2\u001b[0;31m   if ((prior_trend(ind, df['c'], 5) == 'down') and\n\u001b[0m\u001b[1;32m      3\u001b[0m       \u001b[0;34m(\u001b[0m\u001b[0mdf\u001b[0m\u001b[0;34m[\u001b[0m\u001b[0;34m'color'\u001b[0m\u001b[0;34m]\u001b[0m\u001b[0;34m[\u001b[0m\u001b[0mind\u001b[0m\u001b[0;34m]\u001b[0m \u001b[0;34m==\u001b[0m \u001b[0;34m'red'\u001b[0m\u001b[0;34m)\u001b[0m \u001b[0;32mand\u001b[0m\u001b[0;34m\u001b[0m\u001b[0;34m\u001b[0m\u001b[0m\n\u001b[1;32m      4\u001b[0m       \u001b[0;34m(\u001b[0m\u001b[0mdf\u001b[0m\u001b[0;34m[\u001b[0m\u001b[0;34m'color'\u001b[0m\u001b[0;34m]\u001b[0m\u001b[0;34m[\u001b[0m\u001b[0mind\u001b[0m\u001b[0;34m+\u001b[0m\u001b[0;36m1\u001b[0m\u001b[0;34m]\u001b[0m \u001b[0;34m==\u001b[0m \u001b[0;34m'blue'\u001b[0m\u001b[0;34m)\u001b[0m \u001b[0;32mand\u001b[0m\u001b[0;34m\u001b[0m\u001b[0;34m\u001b[0m\u001b[0m\n\u001b[1;32m      5\u001b[0m       \u001b[0;34m(\u001b[0m\u001b[0mdf\u001b[0m\u001b[0;34m[\u001b[0m\u001b[0;34m'range'\u001b[0m\u001b[0;34m]\u001b[0m\u001b[0;34m[\u001b[0m\u001b[0mind\u001b[0m\u001b[0;34m+\u001b[0m\u001b[0;36m1\u001b[0m\u001b[0;34m]\u001b[0m \u001b[0;34m>\u001b[0m \u001b[0mdf\u001b[0m\u001b[0;34m[\u001b[0m\u001b[0;34m'range'\u001b[0m\u001b[0;34m]\u001b[0m\u001b[0;34m[\u001b[0m\u001b[0mind\u001b[0m\u001b[0;34m]\u001b[0m\u001b[0;34m)\u001b[0m \u001b[0;32mand\u001b[0m\u001b[0;34m\u001b[0m\u001b[0;34m\u001b[0m\u001b[0m\n",
            "\u001b[0;32m<ipython-input-212-970264463b5d>\u001b[0m in \u001b[0;36mprior_trend\u001b[0;34m(ind, df, span)\u001b[0m\n\u001b[1;32m      3\u001b[0m   \u001b[0mtemp2\u001b[0m \u001b[0;34m=\u001b[0m \u001b[0;34m[\u001b[0m\u001b[0;34m]\u001b[0m\u001b[0;34m\u001b[0m\u001b[0;34m\u001b[0m\u001b[0m\n\u001b[1;32m      4\u001b[0m   \u001b[0;32mfor\u001b[0m \u001b[0mi\u001b[0m \u001b[0;32min\u001b[0m \u001b[0mrange\u001b[0m\u001b[0;34m(\u001b[0m\u001b[0mind\u001b[0m \u001b[0;34m-\u001b[0m \u001b[0mspan\u001b[0m\u001b[0;34m,\u001b[0m \u001b[0mind\u001b[0m\u001b[0;34m)\u001b[0m\u001b[0;34m:\u001b[0m\u001b[0;34m\u001b[0m\u001b[0;34m\u001b[0m\u001b[0m\n\u001b[0;32m----> 5\u001b[0;31m     \u001b[0mtemp1\u001b[0m\u001b[0;34m.\u001b[0m\u001b[0mappend\u001b[0m\u001b[0;34m(\u001b[0m\u001b[0mdf\u001b[0m\u001b[0;34m[\u001b[0m\u001b[0mi\u001b[0m\u001b[0;34m]\u001b[0m\u001b[0;34m)\u001b[0m\u001b[0;34m\u001b[0m\u001b[0;34m\u001b[0m\u001b[0m\n\u001b[0m\u001b[1;32m      6\u001b[0m     \u001b[0mtemp2\u001b[0m\u001b[0;34m.\u001b[0m\u001b[0mappend\u001b[0m\u001b[0;34m(\u001b[0m\u001b[0mfloat\u001b[0m\u001b[0;34m(\u001b[0m\u001b[0mi\u001b[0m\u001b[0;34m)\u001b[0m\u001b[0;34m)\u001b[0m\u001b[0;34m\u001b[0m\u001b[0;34m\u001b[0m\u001b[0m\n\u001b[1;32m      7\u001b[0m   \u001b[0mslope\u001b[0m\u001b[0;34m,\u001b[0m \u001b[0minter\u001b[0m\u001b[0;34m,\u001b[0m \u001b[0mrval\u001b[0m\u001b[0;34m,\u001b[0m \u001b[0mpval\u001b[0m\u001b[0;34m,\u001b[0m \u001b[0mstderr\u001b[0m \u001b[0;34m=\u001b[0m \u001b[0mlinregress\u001b[0m\u001b[0;34m(\u001b[0m\u001b[0mtemp2\u001b[0m\u001b[0;34m,\u001b[0m \u001b[0mtemp1\u001b[0m\u001b[0;34m)\u001b[0m\u001b[0;34m\u001b[0m\u001b[0;34m\u001b[0m\u001b[0m\n",
            "\u001b[0;32m/usr/local/lib/python3.6/dist-packages/pandas/core/series.py\u001b[0m in \u001b[0;36m__getitem__\u001b[0;34m(self, key)\u001b[0m\n\u001b[1;32m    869\u001b[0m         \u001b[0mkey\u001b[0m \u001b[0;34m=\u001b[0m \u001b[0mcom\u001b[0m\u001b[0;34m.\u001b[0m\u001b[0mapply_if_callable\u001b[0m\u001b[0;34m(\u001b[0m\u001b[0mkey\u001b[0m\u001b[0;34m,\u001b[0m \u001b[0mself\u001b[0m\u001b[0;34m)\u001b[0m\u001b[0;34m\u001b[0m\u001b[0;34m\u001b[0m\u001b[0m\n\u001b[1;32m    870\u001b[0m         \u001b[0;32mtry\u001b[0m\u001b[0;34m:\u001b[0m\u001b[0;34m\u001b[0m\u001b[0;34m\u001b[0m\u001b[0m\n\u001b[0;32m--> 871\u001b[0;31m             \u001b[0mresult\u001b[0m \u001b[0;34m=\u001b[0m \u001b[0mself\u001b[0m\u001b[0;34m.\u001b[0m\u001b[0mindex\u001b[0m\u001b[0;34m.\u001b[0m\u001b[0mget_value\u001b[0m\u001b[0;34m(\u001b[0m\u001b[0mself\u001b[0m\u001b[0;34m,\u001b[0m \u001b[0mkey\u001b[0m\u001b[0;34m)\u001b[0m\u001b[0;34m\u001b[0m\u001b[0;34m\u001b[0m\u001b[0m\n\u001b[0m\u001b[1;32m    872\u001b[0m \u001b[0;34m\u001b[0m\u001b[0m\n\u001b[1;32m    873\u001b[0m             \u001b[0;32mif\u001b[0m \u001b[0;32mnot\u001b[0m \u001b[0mis_scalar\u001b[0m\u001b[0;34m(\u001b[0m\u001b[0mresult\u001b[0m\u001b[0;34m)\u001b[0m\u001b[0;34m:\u001b[0m\u001b[0;34m\u001b[0m\u001b[0;34m\u001b[0m\u001b[0m\n",
            "\u001b[0;32m/usr/local/lib/python3.6/dist-packages/pandas/core/indexes/base.py\u001b[0m in \u001b[0;36mget_value\u001b[0;34m(self, series, key)\u001b[0m\n\u001b[1;32m   4403\u001b[0m         \u001b[0mk\u001b[0m \u001b[0;34m=\u001b[0m \u001b[0mself\u001b[0m\u001b[0;34m.\u001b[0m\u001b[0m_convert_scalar_indexer\u001b[0m\u001b[0;34m(\u001b[0m\u001b[0mk\u001b[0m\u001b[0;34m,\u001b[0m \u001b[0mkind\u001b[0m\u001b[0;34m=\u001b[0m\u001b[0;34m\"getitem\"\u001b[0m\u001b[0;34m)\u001b[0m\u001b[0;34m\u001b[0m\u001b[0;34m\u001b[0m\u001b[0m\n\u001b[1;32m   4404\u001b[0m         \u001b[0;32mtry\u001b[0m\u001b[0;34m:\u001b[0m\u001b[0;34m\u001b[0m\u001b[0;34m\u001b[0m\u001b[0m\n\u001b[0;32m-> 4405\u001b[0;31m             \u001b[0;32mreturn\u001b[0m \u001b[0mself\u001b[0m\u001b[0;34m.\u001b[0m\u001b[0m_engine\u001b[0m\u001b[0;34m.\u001b[0m\u001b[0mget_value\u001b[0m\u001b[0;34m(\u001b[0m\u001b[0ms\u001b[0m\u001b[0;34m,\u001b[0m \u001b[0mk\u001b[0m\u001b[0;34m,\u001b[0m \u001b[0mtz\u001b[0m\u001b[0;34m=\u001b[0m\u001b[0mgetattr\u001b[0m\u001b[0;34m(\u001b[0m\u001b[0mseries\u001b[0m\u001b[0;34m.\u001b[0m\u001b[0mdtype\u001b[0m\u001b[0;34m,\u001b[0m \u001b[0;34m\"tz\"\u001b[0m\u001b[0;34m,\u001b[0m \u001b[0;32mNone\u001b[0m\u001b[0;34m)\u001b[0m\u001b[0;34m)\u001b[0m\u001b[0;34m\u001b[0m\u001b[0;34m\u001b[0m\u001b[0m\n\u001b[0m\u001b[1;32m   4406\u001b[0m         \u001b[0;32mexcept\u001b[0m \u001b[0mKeyError\u001b[0m \u001b[0;32mas\u001b[0m \u001b[0me1\u001b[0m\u001b[0;34m:\u001b[0m\u001b[0;34m\u001b[0m\u001b[0;34m\u001b[0m\u001b[0m\n\u001b[1;32m   4407\u001b[0m             \u001b[0;32mif\u001b[0m \u001b[0mlen\u001b[0m\u001b[0;34m(\u001b[0m\u001b[0mself\u001b[0m\u001b[0;34m)\u001b[0m \u001b[0;34m>\u001b[0m \u001b[0;36m0\u001b[0m \u001b[0;32mand\u001b[0m \u001b[0;34m(\u001b[0m\u001b[0mself\u001b[0m\u001b[0;34m.\u001b[0m\u001b[0mholds_integer\u001b[0m\u001b[0;34m(\u001b[0m\u001b[0;34m)\u001b[0m \u001b[0;32mor\u001b[0m \u001b[0mself\u001b[0m\u001b[0;34m.\u001b[0m\u001b[0mis_boolean\u001b[0m\u001b[0;34m(\u001b[0m\u001b[0;34m)\u001b[0m\u001b[0;34m)\u001b[0m\u001b[0;34m:\u001b[0m\u001b[0;34m\u001b[0m\u001b[0;34m\u001b[0m\u001b[0m\n",
            "\u001b[0;32mpandas/_libs/index.pyx\u001b[0m in \u001b[0;36mpandas._libs.index.IndexEngine.get_value\u001b[0;34m()\u001b[0m\n",
            "\u001b[0;32mpandas/_libs/index.pyx\u001b[0m in \u001b[0;36mpandas._libs.index.IndexEngine.get_value\u001b[0;34m()\u001b[0m\n",
            "\u001b[0;32mpandas/_libs/index.pyx\u001b[0m in \u001b[0;36mpandas._libs.index.IndexEngine.get_loc\u001b[0;34m()\u001b[0m\n",
            "\u001b[0;32mpandas/_libs/hashtable_class_helper.pxi\u001b[0m in \u001b[0;36mpandas._libs.hashtable.Int64HashTable.get_item\u001b[0;34m()\u001b[0m\n",
            "\u001b[0;32mpandas/_libs/hashtable_class_helper.pxi\u001b[0m in \u001b[0;36mpandas._libs.hashtable.Int64HashTable.get_item\u001b[0;34m()\u001b[0m\n",
            "\u001b[0;31mKeyError\u001b[0m: -5"
          ]
        }
      ]
    },
    {
      "cell_type": "markdown",
      "metadata": {
        "id": "nIl9db2LvlwE",
        "colab_type": "text"
      },
      "source": [
        "# Real time\n"
      ]
    },
    {
      "cell_type": "code",
      "metadata": {
        "id": "O3pQN0G3wSLG",
        "colab_type": "code",
        "colab": {}
      },
      "source": [
        "if (df['s_pattern'][-1] == 'doji' and\n",
        "    df['m_pattern'][-2] == 'bullEngulf'):\n",
        "  signal = 'short'\n",
        "  stoploss = max(df['u_bound'][-2], df['u_bound'][-3])\n",
        "  short = df['c'][-2]\n",
        "  target = 1.1*short "
      ],
      "execution_count": null,
      "outputs": []
    },
    {
      "cell_type": "code",
      "metadata": {
        "id": "B2aiGIV4dx2L",
        "colab_type": "code",
        "colab": {}
      },
      "source": [
        "program_end = time.time()\n",
        "print(\"Runtime = {0}\".format(program_end - program_start))"
      ],
      "execution_count": null,
      "outputs": []
    }
  ]
}