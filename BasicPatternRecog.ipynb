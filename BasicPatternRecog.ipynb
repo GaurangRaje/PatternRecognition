{
  "nbformat": 4,
  "nbformat_minor": 0,
  "metadata": {
    "kernelspec": {
      "display_name": "Python 3",
      "language": "python",
      "name": "python3"
    },
    "language_info": {
      "codemirror_mode": {
        "name": "ipython",
        "version": 3
      },
      "file_extension": ".py",
      "mimetype": "text/x-python",
      "name": "python",
      "nbconvert_exporter": "python",
      "pygments_lexer": "ipython3",
      "version": "3.7.6"
    },
    "colab": {
      "name": "BasicPatternRecog.ipynb",
      "provenance": []
    }
  },
  "cells": [
    {
      "cell_type": "markdown",
      "metadata": {
        "id": "cibbrm9sdx0T",
        "colab_type": "text"
      },
      "source": [
        "# Importing the libraries"
      ]
    },
    {
      "cell_type": "code",
      "metadata": {
        "id": "EjGg1-4Xdx0Y",
        "colab_type": "code",
        "colab": {
          "base_uri": "https://localhost:8080/",
          "height": 263
        },
        "outputId": "1294065b-2927-43ea-e8e1-5cd3a08b3056"
      },
      "source": [
        "!pip install alpha_vantage\n",
        "import time\n",
        "program_start = time.time()\n",
        "import matplotlib.pyplot as plt\n",
        "import numpy as np\n",
        "import pandas as pd\n",
        "from alpha_vantage.timeseries import TimeSeries\n",
        "import os\n",
        "from scipy.stats import linregress"
      ],
      "execution_count": 110,
      "outputs": [
        {
          "output_type": "stream",
          "text": [
            "Requirement already satisfied: alpha_vantage in /usr/local/lib/python3.6/dist-packages (2.2.0)\n",
            "Requirement already satisfied: requests in /usr/local/lib/python3.6/dist-packages (from alpha_vantage) (2.23.0)\n",
            "Requirement already satisfied: aiohttp in /usr/local/lib/python3.6/dist-packages (from alpha_vantage) (3.6.2)\n",
            "Requirement already satisfied: chardet<4,>=3.0.2 in /usr/local/lib/python3.6/dist-packages (from requests->alpha_vantage) (3.0.4)\n",
            "Requirement already satisfied: idna<3,>=2.5 in /usr/local/lib/python3.6/dist-packages (from requests->alpha_vantage) (2.10)\n",
            "Requirement already satisfied: urllib3!=1.25.0,!=1.25.1,<1.26,>=1.21.1 in /usr/local/lib/python3.6/dist-packages (from requests->alpha_vantage) (1.24.3)\n",
            "Requirement already satisfied: certifi>=2017.4.17 in /usr/local/lib/python3.6/dist-packages (from requests->alpha_vantage) (2020.6.20)\n",
            "Requirement already satisfied: yarl<2.0,>=1.0 in /usr/local/lib/python3.6/dist-packages (from aiohttp->alpha_vantage) (1.4.2)\n",
            "Requirement already satisfied: multidict<5.0,>=4.5 in /usr/local/lib/python3.6/dist-packages (from aiohttp->alpha_vantage) (4.7.6)\n",
            "Requirement already satisfied: async-timeout<4.0,>=3.0 in /usr/local/lib/python3.6/dist-packages (from aiohttp->alpha_vantage) (3.0.1)\n",
            "Requirement already satisfied: idna-ssl>=1.0; python_version < \"3.7\" in /usr/local/lib/python3.6/dist-packages (from aiohttp->alpha_vantage) (1.1.0)\n",
            "Requirement already satisfied: typing-extensions>=3.6.5; python_version < \"3.7\" in /usr/local/lib/python3.6/dist-packages (from aiohttp->alpha_vantage) (3.7.4.2)\n",
            "Requirement already satisfied: attrs>=17.3.0 in /usr/local/lib/python3.6/dist-packages (from aiohttp->alpha_vantage) (19.3.0)\n"
          ],
          "name": "stdout"
        }
      ]
    },
    {
      "cell_type": "markdown",
      "metadata": {
        "id": "ePZbPxjxdx0w",
        "colab_type": "text"
      },
      "source": [
        "# API key and ticker symbol"
      ]
    },
    {
      "cell_type": "code",
      "metadata": {
        "id": "oruiJIEAdx06",
        "colab_type": "code",
        "colab": {}
      },
      "source": [
        "av_key = 'HDHS7RJSLYNN07J7l'\n",
        "#os.environ.get('av_key')\n",
        "ticker = 'TSLA'"
      ],
      "execution_count": 96,
      "outputs": []
    },
    {
      "cell_type": "markdown",
      "metadata": {
        "id": "9zUwyhh2dx1G",
        "colab_type": "text"
      },
      "source": [
        "# Importing the dataset"
      ]
    },
    {
      "cell_type": "code",
      "metadata": {
        "id": "Wwyqvj_sdx1J",
        "colab_type": "code",
        "colab": {
          "base_uri": "https://localhost:8080/",
          "height": 206
        },
        "outputId": "3aef2814-28ca-42c3-cbd7-d7c663e890d8"
      },
      "source": [
        "ts = TimeSeries(key=av_key, output_format = 'pandas')\n",
        "df, meta_data = ts.get_daily(symbol=ticker, outputsize='full')\n",
        "df = df.reindex(index=df.index[::-1])\n",
        "df = df.reset_index()\n",
        "df.head()"
      ],
      "execution_count": 97,
      "outputs": [
        {
          "output_type": "execute_result",
          "data": {
            "text/html": [
              "<div>\n",
              "<style scoped>\n",
              "    .dataframe tbody tr th:only-of-type {\n",
              "        vertical-align: middle;\n",
              "    }\n",
              "\n",
              "    .dataframe tbody tr th {\n",
              "        vertical-align: top;\n",
              "    }\n",
              "\n",
              "    .dataframe thead th {\n",
              "        text-align: right;\n",
              "    }\n",
              "</style>\n",
              "<table border=\"1\" class=\"dataframe\">\n",
              "  <thead>\n",
              "    <tr style=\"text-align: right;\">\n",
              "      <th></th>\n",
              "      <th>date</th>\n",
              "      <th>1. open</th>\n",
              "      <th>2. high</th>\n",
              "      <th>3. low</th>\n",
              "      <th>4. close</th>\n",
              "      <th>5. volume</th>\n",
              "    </tr>\n",
              "  </thead>\n",
              "  <tbody>\n",
              "    <tr>\n",
              "      <th>0</th>\n",
              "      <td>2010-06-29</td>\n",
              "      <td>19.00</td>\n",
              "      <td>25.0000</td>\n",
              "      <td>17.54</td>\n",
              "      <td>23.89</td>\n",
              "      <td>18766300.0</td>\n",
              "    </tr>\n",
              "    <tr>\n",
              "      <th>1</th>\n",
              "      <td>2010-06-30</td>\n",
              "      <td>25.79</td>\n",
              "      <td>30.4192</td>\n",
              "      <td>23.30</td>\n",
              "      <td>23.83</td>\n",
              "      <td>17187100.0</td>\n",
              "    </tr>\n",
              "    <tr>\n",
              "      <th>2</th>\n",
              "      <td>2010-07-01</td>\n",
              "      <td>25.00</td>\n",
              "      <td>25.9200</td>\n",
              "      <td>20.27</td>\n",
              "      <td>21.96</td>\n",
              "      <td>8218800.0</td>\n",
              "    </tr>\n",
              "    <tr>\n",
              "      <th>3</th>\n",
              "      <td>2010-07-02</td>\n",
              "      <td>23.00</td>\n",
              "      <td>23.1000</td>\n",
              "      <td>18.71</td>\n",
              "      <td>19.20</td>\n",
              "      <td>5139800.0</td>\n",
              "    </tr>\n",
              "    <tr>\n",
              "      <th>4</th>\n",
              "      <td>2010-07-06</td>\n",
              "      <td>20.00</td>\n",
              "      <td>20.0000</td>\n",
              "      <td>15.83</td>\n",
              "      <td>16.11</td>\n",
              "      <td>6866900.0</td>\n",
              "    </tr>\n",
              "  </tbody>\n",
              "</table>\n",
              "</div>"
            ],
            "text/plain": [
              "        date  1. open  2. high  3. low  4. close   5. volume\n",
              "0 2010-06-29    19.00  25.0000   17.54     23.89  18766300.0\n",
              "1 2010-06-30    25.79  30.4192   23.30     23.83  17187100.0\n",
              "2 2010-07-01    25.00  25.9200   20.27     21.96   8218800.0\n",
              "3 2010-07-02    23.00  23.1000   18.71     19.20   5139800.0\n",
              "4 2010-07-06    20.00  20.0000   15.83     16.11   6866900.0"
            ]
          },
          "metadata": {
            "tags": []
          },
          "execution_count": 97
        }
      ]
    },
    {
      "cell_type": "code",
      "metadata": {
        "id": "xZq8cAm9dx1X",
        "colab_type": "code",
        "colab": {
          "base_uri": "https://localhost:8080/",
          "height": 260
        },
        "outputId": "cfbde841-ea4b-4b64-abf7-c99ad1c77d08"
      },
      "source": [
        "df.describe"
      ],
      "execution_count": 98,
      "outputs": [
        {
          "output_type": "execute_result",
          "data": {
            "text/plain": [
              "<bound method NDFrame.describe of            date  1. open    2. high   3. low  4. close   5. volume\n",
              "0    2010-06-29    19.00    25.0000    17.54     23.89  18766300.0\n",
              "1    2010-06-30    25.79    30.4192    23.30     23.83  17187100.0\n",
              "2    2010-07-01    25.00    25.9200    20.27     21.96   8218800.0\n",
              "3    2010-07-02    23.00    23.1000    18.71     19.20   5139800.0\n",
              "4    2010-07-06    20.00    20.0000    15.83     16.11   6866900.0\n",
              "...         ...      ...        ...      ...       ...         ...\n",
              "2528 2020-07-15  1543.00  1550.0000  1457.00   1546.01  16368700.0\n",
              "2529 2020-07-16  1477.16  1531.7100  1466.00   1500.64  14300800.0\n",
              "2530 2020-07-17  1513.45  1537.5100  1490.00   1500.84   9332600.0\n",
              "2531 2020-07-20  1519.01  1650.0000  1488.00   1643.00  16697300.0\n",
              "2532 2020-07-21  1639.93  1675.0000  1558.00   1568.36  16029800.0\n",
              "\n",
              "[2533 rows x 6 columns]>"
            ]
          },
          "metadata": {
            "tags": []
          },
          "execution_count": 98
        }
      ]
    },
    {
      "cell_type": "code",
      "metadata": {
        "id": "kXvrS5bA7ZTg",
        "colab_type": "code",
        "colab": {
          "base_uri": "https://localhost:8080/",
          "height": 206
        },
        "outputId": "18189db9-5d96-4668-ad26-e23eaf27ed3f"
      },
      "source": [
        "df = df.drop('date', axis=1)\n",
        "df.head()"
      ],
      "execution_count": 99,
      "outputs": [
        {
          "output_type": "execute_result",
          "data": {
            "text/html": [
              "<div>\n",
              "<style scoped>\n",
              "    .dataframe tbody tr th:only-of-type {\n",
              "        vertical-align: middle;\n",
              "    }\n",
              "\n",
              "    .dataframe tbody tr th {\n",
              "        vertical-align: top;\n",
              "    }\n",
              "\n",
              "    .dataframe thead th {\n",
              "        text-align: right;\n",
              "    }\n",
              "</style>\n",
              "<table border=\"1\" class=\"dataframe\">\n",
              "  <thead>\n",
              "    <tr style=\"text-align: right;\">\n",
              "      <th></th>\n",
              "      <th>1. open</th>\n",
              "      <th>2. high</th>\n",
              "      <th>3. low</th>\n",
              "      <th>4. close</th>\n",
              "      <th>5. volume</th>\n",
              "    </tr>\n",
              "  </thead>\n",
              "  <tbody>\n",
              "    <tr>\n",
              "      <th>0</th>\n",
              "      <td>19.00</td>\n",
              "      <td>25.0000</td>\n",
              "      <td>17.54</td>\n",
              "      <td>23.89</td>\n",
              "      <td>18766300.0</td>\n",
              "    </tr>\n",
              "    <tr>\n",
              "      <th>1</th>\n",
              "      <td>25.79</td>\n",
              "      <td>30.4192</td>\n",
              "      <td>23.30</td>\n",
              "      <td>23.83</td>\n",
              "      <td>17187100.0</td>\n",
              "    </tr>\n",
              "    <tr>\n",
              "      <th>2</th>\n",
              "      <td>25.00</td>\n",
              "      <td>25.9200</td>\n",
              "      <td>20.27</td>\n",
              "      <td>21.96</td>\n",
              "      <td>8218800.0</td>\n",
              "    </tr>\n",
              "    <tr>\n",
              "      <th>3</th>\n",
              "      <td>23.00</td>\n",
              "      <td>23.1000</td>\n",
              "      <td>18.71</td>\n",
              "      <td>19.20</td>\n",
              "      <td>5139800.0</td>\n",
              "    </tr>\n",
              "    <tr>\n",
              "      <th>4</th>\n",
              "      <td>20.00</td>\n",
              "      <td>20.0000</td>\n",
              "      <td>15.83</td>\n",
              "      <td>16.11</td>\n",
              "      <td>6866900.0</td>\n",
              "    </tr>\n",
              "  </tbody>\n",
              "</table>\n",
              "</div>"
            ],
            "text/plain": [
              "   1. open  2. high  3. low  4. close   5. volume\n",
              "0    19.00  25.0000   17.54     23.89  18766300.0\n",
              "1    25.79  30.4192   23.30     23.83  17187100.0\n",
              "2    25.00  25.9200   20.27     21.96   8218800.0\n",
              "3    23.00  23.1000   18.71     19.20   5139800.0\n",
              "4    20.00  20.0000   15.83     16.11   6866900.0"
            ]
          },
          "metadata": {
            "tags": []
          },
          "execution_count": 99
        }
      ]
    },
    {
      "cell_type": "markdown",
      "metadata": {
        "id": "YMCySCKGdx1j",
        "colab_type": "text"
      },
      "source": [
        "# Data preprocessing"
      ]
    },
    {
      "cell_type": "code",
      "metadata": {
        "id": "LZxrj721dx1k",
        "colab_type": "code",
        "colab": {
          "base_uri": "https://localhost:8080/",
          "height": 206
        },
        "outputId": "8db22b18-75fa-4934-c6bd-a8fc0d54b04f"
      },
      "source": [
        "df.columns = ['o', 'h', 'l', 'c', 'vol'] #Renaming columns\n",
        "color, rng, u_shadow, l_shadow, ub, lb = [], [], [], [], [], []\n",
        "\n",
        "for ind in df.index:\n",
        "    rng.append(df['h'][ind] - df['l'][ind]) #Calculating range\n",
        "    \n",
        "    if df['o'][ind] > df['c'][ind]:\n",
        "        color.append('red') #open higher than close --> bearishness\n",
        "    else:\n",
        "        color.append('blue') #open is lower than or equal to close --> bulllishness\n",
        "\n",
        "    if color[::-1] == 'red':  #Determining shadow length and bounds for red candles\n",
        "        u_shadow.append(df['h'][ind] - df['o'][ind])\n",
        "        l_shadow.append(df['c'][ind] - df['l'][ind])\n",
        "        ub.append(df['o'][ind])\n",
        "        lb.append(df['c'][ind])\n",
        "    else: #Determining shadow length and bounds for blue candles\n",
        "        u_shadow.append(df['h'][ind] - df['c'][ind])\n",
        "        l_shadow.append(df['o'][ind] - df['l'][ind])\n",
        "        ub.append(df['c'][ind])\n",
        "        lb.append(df['o'][ind])\n",
        "        \n",
        "df['color'] = color\n",
        "df['range'] = rng\n",
        "df['u_shadow'] = u_shadow\n",
        "df['l_shadow'] = l_shadow\n",
        "df['u_bound'] = ub\n",
        "df['l_bound'] = lb\n",
        "df.head()"
      ],
      "execution_count": 100,
      "outputs": [
        {
          "output_type": "execute_result",
          "data": {
            "text/html": [
              "<div>\n",
              "<style scoped>\n",
              "    .dataframe tbody tr th:only-of-type {\n",
              "        vertical-align: middle;\n",
              "    }\n",
              "\n",
              "    .dataframe tbody tr th {\n",
              "        vertical-align: top;\n",
              "    }\n",
              "\n",
              "    .dataframe thead th {\n",
              "        text-align: right;\n",
              "    }\n",
              "</style>\n",
              "<table border=\"1\" class=\"dataframe\">\n",
              "  <thead>\n",
              "    <tr style=\"text-align: right;\">\n",
              "      <th></th>\n",
              "      <th>o</th>\n",
              "      <th>h</th>\n",
              "      <th>l</th>\n",
              "      <th>c</th>\n",
              "      <th>vol</th>\n",
              "      <th>color</th>\n",
              "      <th>range</th>\n",
              "      <th>u_shadow</th>\n",
              "      <th>l_shadow</th>\n",
              "      <th>u_bound</th>\n",
              "      <th>l_bound</th>\n",
              "    </tr>\n",
              "  </thead>\n",
              "  <tbody>\n",
              "    <tr>\n",
              "      <th>0</th>\n",
              "      <td>19.00</td>\n",
              "      <td>25.0000</td>\n",
              "      <td>17.54</td>\n",
              "      <td>23.89</td>\n",
              "      <td>18766300.0</td>\n",
              "      <td>blue</td>\n",
              "      <td>7.4600</td>\n",
              "      <td>1.1100</td>\n",
              "      <td>1.46</td>\n",
              "      <td>23.89</td>\n",
              "      <td>19.00</td>\n",
              "    </tr>\n",
              "    <tr>\n",
              "      <th>1</th>\n",
              "      <td>25.79</td>\n",
              "      <td>30.4192</td>\n",
              "      <td>23.30</td>\n",
              "      <td>23.83</td>\n",
              "      <td>17187100.0</td>\n",
              "      <td>red</td>\n",
              "      <td>7.1192</td>\n",
              "      <td>6.5892</td>\n",
              "      <td>2.49</td>\n",
              "      <td>23.83</td>\n",
              "      <td>25.79</td>\n",
              "    </tr>\n",
              "    <tr>\n",
              "      <th>2</th>\n",
              "      <td>25.00</td>\n",
              "      <td>25.9200</td>\n",
              "      <td>20.27</td>\n",
              "      <td>21.96</td>\n",
              "      <td>8218800.0</td>\n",
              "      <td>red</td>\n",
              "      <td>5.6500</td>\n",
              "      <td>3.9600</td>\n",
              "      <td>4.73</td>\n",
              "      <td>21.96</td>\n",
              "      <td>25.00</td>\n",
              "    </tr>\n",
              "    <tr>\n",
              "      <th>3</th>\n",
              "      <td>23.00</td>\n",
              "      <td>23.1000</td>\n",
              "      <td>18.71</td>\n",
              "      <td>19.20</td>\n",
              "      <td>5139800.0</td>\n",
              "      <td>red</td>\n",
              "      <td>4.3900</td>\n",
              "      <td>3.9000</td>\n",
              "      <td>4.29</td>\n",
              "      <td>19.20</td>\n",
              "      <td>23.00</td>\n",
              "    </tr>\n",
              "    <tr>\n",
              "      <th>4</th>\n",
              "      <td>20.00</td>\n",
              "      <td>20.0000</td>\n",
              "      <td>15.83</td>\n",
              "      <td>16.11</td>\n",
              "      <td>6866900.0</td>\n",
              "      <td>red</td>\n",
              "      <td>4.1700</td>\n",
              "      <td>3.8900</td>\n",
              "      <td>4.17</td>\n",
              "      <td>16.11</td>\n",
              "      <td>20.00</td>\n",
              "    </tr>\n",
              "  </tbody>\n",
              "</table>\n",
              "</div>"
            ],
            "text/plain": [
              "       o        h      l      c  ...  u_shadow l_shadow  u_bound  l_bound\n",
              "0  19.00  25.0000  17.54  23.89  ...    1.1100     1.46    23.89    19.00\n",
              "1  25.79  30.4192  23.30  23.83  ...    6.5892     2.49    23.83    25.79\n",
              "2  25.00  25.9200  20.27  21.96  ...    3.9600     4.73    21.96    25.00\n",
              "3  23.00  23.1000  18.71  19.20  ...    3.9000     4.29    19.20    23.00\n",
              "4  20.00  20.0000  15.83  16.11  ...    3.8900     4.17    16.11    20.00\n",
              "\n",
              "[5 rows x 11 columns]"
            ]
          },
          "metadata": {
            "tags": []
          },
          "execution_count": 100
        }
      ]
    },
    {
      "cell_type": "code",
      "metadata": {
        "id": "ViSHxE7V1OXT",
        "colab_type": "code",
        "colab": {
          "base_uri": "https://localhost:8080/",
          "height": 282
        },
        "outputId": "53e40bfa-b5db-4ccc-e24b-4b3f9ac35323"
      },
      "source": [
        "plt.plot(df['c'][-30:])"
      ],
      "execution_count": 103,
      "outputs": [
        {
          "output_type": "execute_result",
          "data": {
            "text/plain": [
              "[<matplotlib.lines.Line2D at 0x7fded14e0470>]"
            ]
          },
          "metadata": {
            "tags": []
          },
          "execution_count": 103
        },
        {
          "output_type": "display_data",
          "data": {
            "image/png": "[encoded data removed]",
            "text/plain": [
              "<Figure size 432x288 with 1 Axes>"
            ]
          },
          "metadata": {
            "tags": [],
            "needs_background": "light"
          }
        }
      ]
    },
    {
      "cell_type": "code",
      "metadata": {
        "id": "Zjict8hzqCIH",
        "colab_type": "code",
        "colab": {}
      },
      "source": [
        "def prior_trend(ind, df, span):\n",
        "  temp1 = []\n",
        "  temp2 = []\n",
        "  for i in range(ind - span, ind):\n",
        "    temp1.append(df[i])\n",
        "    temp2.append(float(i))\n",
        "  slope, inter, rval, pval, stderr = linregress(temp2, temp1)\n",
        "  if slope < 0:\n",
        "    trend = 'down'\n",
        "  else:\n",
        "    trend = 'up'\n",
        "  return trend"
      ],
      "execution_count": 119,
      "outputs": []
    },
    {
      "cell_type": "code",
      "metadata": {
        "id": "LGD65QroBG-b",
        "colab_type": "code",
        "colab": {
          "base_uri": "https://localhost:8080/",
          "height": 35
        },
        "outputId": "4c1dd52f-acfb-4faf-96af-21abd9d844de"
      },
      "source": [
        "prior_trend(2533, df['c'], 30)"
      ],
      "execution_count": 120,
      "outputs": [
        {
          "output_type": "execute_result",
          "data": {
            "application/vnd.google.colaboratory.intrinsic": {
              "type": "string"
            },
            "text/plain": [
              "'up'"
            ]
          },
          "metadata": {
            "tags": []
          },
          "execution_count": 120
        }
      ]
    },
    {
      "cell_type": "markdown",
      "metadata": {
        "id": "8IzsNTZddx1y",
        "colab_type": "text"
      },
      "source": [
        "# Single candlestick patterns"
      ]
    },
    {
      "cell_type": "code",
      "metadata": {
        "id": "JNQTWXwudx1z",
        "colab_type": "code",
        "colab": {
          "base_uri": "https://localhost:8080/",
          "height": 206
        },
        "outputId": "dd8ee677-e11b-49ae-8146-d3295d484ef8"
      },
      "source": [
        "s_pattern = []\n",
        "for ind in df.index:\n",
        "    if (df['u_shadow'][ind]/df['u_bound'][ind] <= 0.003 and \n",
        "        df['l_shadow'][ind]/df['l_bound'][ind] <= 0.003):\n",
        "        s_pattern.append('marubozu')\n",
        "    elif df['u_shadow'][ind] == df['l_shadow'][ind]:\n",
        "        if df['range'][ind] < 0.005:\n",
        "            s_pattern.append('doji')\n",
        "        else:\n",
        "            s_pattern.append('spinning top')\n",
        "    elif df['u_shadow'][ind] < 0.003 and df['l_shadow'][ind] > 2*df['range'][ind]:\n",
        "        if prior_trend(ind, df[c], 30) == 'up':\n",
        "          s_pattern.append('hanging')\n",
        "        else:\n",
        "          s_pattern.append('hammer')\n",
        "    elif df['l_shadow'][ind] < 0.003 and df['u_shadow'][ind] > 2*df['range'][ind]:\n",
        "        s_pattern.append('shooting star')\n",
        "    else:\n",
        "        s_pattern.append('others')\n",
        "df['s_pattern'] = s_pattern\n",
        "df.head()"
      ],
      "execution_count": 121,
      "outputs": [
        {
          "output_type": "execute_result",
          "data": {
            "text/html": [
              "<div>\n",
              "<style scoped>\n",
              "    .dataframe tbody tr th:only-of-type {\n",
              "        vertical-align: middle;\n",
              "    }\n",
              "\n",
              "    .dataframe tbody tr th {\n",
              "        vertical-align: top;\n",
              "    }\n",
              "\n",
              "    .dataframe thead th {\n",
              "        text-align: right;\n",
              "    }\n",
              "</style>\n",
              "<table border=\"1\" class=\"dataframe\">\n",
              "  <thead>\n",
              "    <tr style=\"text-align: right;\">\n",
              "      <th></th>\n",
              "      <th>o</th>\n",
              "      <th>h</th>\n",
              "      <th>l</th>\n",
              "      <th>c</th>\n",
              "      <th>vol</th>\n",
              "      <th>color</th>\n",
              "      <th>range</th>\n",
              "      <th>u_shadow</th>\n",
              "      <th>l_shadow</th>\n",
              "      <th>u_bound</th>\n",
              "      <th>l_bound</th>\n",
              "      <th>s_pattern</th>\n",
              "    </tr>\n",
              "  </thead>\n",
              "  <tbody>\n",
              "    <tr>\n",
              "      <th>0</th>\n",
              "      <td>19.00</td>\n",
              "      <td>25.0000</td>\n",
              "      <td>17.54</td>\n",
              "      <td>23.89</td>\n",
              "      <td>18766300.0</td>\n",
              "      <td>blue</td>\n",
              "      <td>7.4600</td>\n",
              "      <td>1.1100</td>\n",
              "      <td>1.46</td>\n",
              "      <td>23.89</td>\n",
              "      <td>19.00</td>\n",
              "      <td>others</td>\n",
              "    </tr>\n",
              "    <tr>\n",
              "      <th>1</th>\n",
              "      <td>25.79</td>\n",
              "      <td>30.4192</td>\n",
              "      <td>23.30</td>\n",
              "      <td>23.83</td>\n",
              "      <td>17187100.0</td>\n",
              "      <td>red</td>\n",
              "      <td>7.1192</td>\n",
              "      <td>6.5892</td>\n",
              "      <td>2.49</td>\n",
              "      <td>23.83</td>\n",
              "      <td>25.79</td>\n",
              "      <td>others</td>\n",
              "    </tr>\n",
              "    <tr>\n",
              "      <th>2</th>\n",
              "      <td>25.00</td>\n",
              "      <td>25.9200</td>\n",
              "      <td>20.27</td>\n",
              "      <td>21.96</td>\n",
              "      <td>8218800.0</td>\n",
              "      <td>red</td>\n",
              "      <td>5.6500</td>\n",
              "      <td>3.9600</td>\n",
              "      <td>4.73</td>\n",
              "      <td>21.96</td>\n",
              "      <td>25.00</td>\n",
              "      <td>others</td>\n",
              "    </tr>\n",
              "    <tr>\n",
              "      <th>3</th>\n",
              "      <td>23.00</td>\n",
              "      <td>23.1000</td>\n",
              "      <td>18.71</td>\n",
              "      <td>19.20</td>\n",
              "      <td>5139800.0</td>\n",
              "      <td>red</td>\n",
              "      <td>4.3900</td>\n",
              "      <td>3.9000</td>\n",
              "      <td>4.29</td>\n",
              "      <td>19.20</td>\n",
              "      <td>23.00</td>\n",
              "      <td>others</td>\n",
              "    </tr>\n",
              "    <tr>\n",
              "      <th>4</th>\n",
              "      <td>20.00</td>\n",
              "      <td>20.0000</td>\n",
              "      <td>15.83</td>\n",
              "      <td>16.11</td>\n",
              "      <td>6866900.0</td>\n",
              "      <td>red</td>\n",
              "      <td>4.1700</td>\n",
              "      <td>3.8900</td>\n",
              "      <td>4.17</td>\n",
              "      <td>16.11</td>\n",
              "      <td>20.00</td>\n",
              "      <td>others</td>\n",
              "    </tr>\n",
              "  </tbody>\n",
              "</table>\n",
              "</div>"
            ],
            "text/plain": [
              "       o        h      l      c  ...  l_shadow u_bound  l_bound  s_pattern\n",
              "0  19.00  25.0000  17.54  23.89  ...      1.46   23.89    19.00     others\n",
              "1  25.79  30.4192  23.30  23.83  ...      2.49   23.83    25.79     others\n",
              "2  25.00  25.9200  20.27  21.96  ...      4.73   21.96    25.00     others\n",
              "3  23.00  23.1000  18.71  19.20  ...      4.29   19.20    23.00     others\n",
              "4  20.00  20.0000  15.83  16.11  ...      4.17   16.11    20.00     others\n",
              "\n",
              "[5 rows x 12 columns]"
            ]
          },
          "metadata": {
            "tags": []
          },
          "execution_count": 121
        }
      ]
    },
    {
      "cell_type": "markdown",
      "metadata": {
        "id": "XdfhGQ7pdx1-",
        "colab_type": "text"
      },
      "source": [
        "## Analysing single candlestick pattern detection results"
      ]
    },
    {
      "cell_type": "code",
      "metadata": {
        "id": "4p1VPDFFdx2A",
        "colab_type": "code",
        "colab": {
          "base_uri": "https://localhost:8080/",
          "height": 86
        },
        "outputId": "42a19867-65aa-4e35-f6ac-a8fb6c3e7805"
      },
      "source": [
        "count = df['s_pattern'].value_counts()\n",
        "print(count)"
      ],
      "execution_count": 106,
      "outputs": [
        {
          "output_type": "stream",
          "text": [
            "others          2471\n",
            "marubozu          56\n",
            "spinning top       6\n",
            "Name: s_pattern, dtype: int64\n"
          ],
          "name": "stdout"
        }
      ]
    },
    {
      "cell_type": "code",
      "metadata": {
        "id": "B2aiGIV4dx2L",
        "colab_type": "code",
        "colab": {
          "base_uri": "https://localhost:8080/",
          "height": 34
        },
        "outputId": "6f1ae967-0e0b-48ae-be39-d33410acf4e3"
      },
      "source": [
        "program_end = time.time()\n",
        "print(\"Runtime = {0}\".format(program_end - program_start))"
      ],
      "execution_count": 107,
      "outputs": [
        {
          "output_type": "stream",
          "text": [
            "Runtime = 1.7210156917572021\n"
          ],
          "name": "stdout"
        }
      ]
    }
  ]
}