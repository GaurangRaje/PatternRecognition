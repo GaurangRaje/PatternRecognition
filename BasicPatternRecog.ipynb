{
 "cells": [
  {
   "cell_type": "markdown",
   "metadata": {},
   "source": [
    "# Importing the libraries"
   ]
  },
  {
   "cell_type": "code",
   "execution_count": 24,
   "metadata": {},
   "outputs": [],
   "source": [
    "import matplotlib.pyplot as plt\n",
    "import numpy as np\n",
    "import pandas as pd\n",
    "from alpha_vantage.timeseries import TimeSeries\n",
    "import time"
   ]
  },
  {
   "cell_type": "markdown",
   "metadata": {},
   "source": [
    "# API key and ticker symbol"
   ]
  },
  {
   "cell_type": "code",
   "execution_count": 25,
   "metadata": {},
   "outputs": [],
   "source": [
    "api_key = 'HDHS7RJSLYNN07J7'\n",
    "ticker = 'TSLA'"
   ]
  },
  {
   "cell_type": "markdown",
   "metadata": {},
   "source": [
    "# Importing the dataset"
   ]
  },
  {
   "cell_type": "code",
   "execution_count": 26,
   "metadata": {},
   "outputs": [
    {
     "name": "stdout",
     "output_type": "stream",
     "text": [
      "                       1. open    2. high     3. low   4. close  5. volume\n",
      "date                                                                      \n",
      "2020-07-15 20:00:00  1511.0000  1511.0000  1511.0000  1511.0000     2920.0\n",
      "2020-07-15 19:59:00  1511.2200  1513.0000  1510.9500  1512.5000     2390.0\n",
      "2020-07-15 19:58:00  1510.9500  1512.0000  1510.9500  1512.0000     2279.0\n",
      "2020-07-15 19:57:00  1510.5000  1510.7700  1510.1000  1510.7700     2918.0\n",
      "2020-07-15 19:56:00  1510.1601  1510.1601  1510.1601  1510.1601     1400.0\n"
     ]
    }
   ],
   "source": [
    "ts = TimeSeries(key = api_key, output_format = 'pandas')\n",
    "data, meta_data = ts.get_intraday(symbol=ticker, interval='1min', outputsize='full')\n",
    "print(data.head())"
   ]
  },
  {
   "cell_type": "markdown",
   "metadata": {},
   "source": [
    "# Data preprocessing"
   ]
  },
  {
   "cell_type": "markdown",
   "metadata": {},
   "source": [
    "## Renaming columns"
   ]
  },
  {
   "cell_type": "code",
   "execution_count": 27,
   "metadata": {},
   "outputs": [
    {
     "name": "stdout",
     "output_type": "stream",
     "text": [
      "                             o          h          l          c     vol\n",
      "date                                                                   \n",
      "2020-07-15 20:00:00  1511.0000  1511.0000  1511.0000  1511.0000  2920.0\n",
      "2020-07-15 19:59:00  1511.2200  1513.0000  1510.9500  1512.5000  2390.0\n",
      "2020-07-15 19:58:00  1510.9500  1512.0000  1510.9500  1512.0000  2279.0\n",
      "2020-07-15 19:57:00  1510.5000  1510.7700  1510.1000  1510.7700  2918.0\n",
      "2020-07-15 19:56:00  1510.1601  1510.1601  1510.1601  1510.1601  1400.0\n"
     ]
    }
   ],
   "source": [
    "data.columns = ['o', 'h', 'l', 'c', 'vol']\n",
    "print(data.head())"
   ]
  },
  {
   "cell_type": "markdown",
   "metadata": {},
   "source": [
    "## Sentiment (Bearish or Bullish)"
   ]
  },
  {
   "cell_type": "code",
   "execution_count": 28,
   "metadata": {},
   "outputs": [
    {
     "name": "stdout",
     "output_type": "stream",
     "text": [
      "                             o          h          l          c     vol color\n",
      "date                                                                         \n",
      "2020-07-15 20:00:00  1511.0000  1511.0000  1511.0000  1511.0000  2920.0  blue\n",
      "2020-07-15 19:59:00  1511.2200  1513.0000  1510.9500  1512.5000  2390.0  blue\n",
      "2020-07-15 19:58:00  1510.9500  1512.0000  1510.9500  1512.0000  2279.0  blue\n",
      "2020-07-15 19:57:00  1510.5000  1510.7700  1510.1000  1510.7700  2918.0  blue\n",
      "2020-07-15 19:56:00  1510.1601  1510.1601  1510.1601  1510.1601  1400.0  blue\n"
     ]
    }
   ],
   "source": [
    "color = []\n",
    "for ind in data.index:\n",
    "    if data['o'][ind] > data['c'][ind]:\n",
    "        color.append('red') #open higher than close --> bearishness\n",
    "    else:\n",
    "        color.append('blue') #open is lower than or equal to close --> bulllishness\n",
    "data['color'] = color\n",
    "print(data.head())"
   ]
  },
  {
   "cell_type": "markdown",
   "metadata": {},
   "source": [
    "## Range"
   ]
  },
  {
   "cell_type": "code",
   "execution_count": 29,
   "metadata": {},
   "outputs": [
    {
     "name": "stdout",
     "output_type": "stream",
     "text": [
      "                             o          h          l          c     vol color  \\\n",
      "date                                                                            \n",
      "2020-07-15 20:00:00  1511.0000  1511.0000  1511.0000  1511.0000  2920.0  blue   \n",
      "2020-07-15 19:59:00  1511.2200  1513.0000  1510.9500  1512.5000  2390.0  blue   \n",
      "2020-07-15 19:58:00  1510.9500  1512.0000  1510.9500  1512.0000  2279.0  blue   \n",
      "2020-07-15 19:57:00  1510.5000  1510.7700  1510.1000  1510.7700  2918.0  blue   \n",
      "2020-07-15 19:56:00  1510.1601  1510.1601  1510.1601  1510.1601  1400.0  blue   \n",
      "\n",
      "                     range  \n",
      "date                        \n",
      "2020-07-15 20:00:00   0.00  \n",
      "2020-07-15 19:59:00   2.05  \n",
      "2020-07-15 19:58:00   1.05  \n",
      "2020-07-15 19:57:00   0.67  \n",
      "2020-07-15 19:56:00   0.00  \n"
     ]
    }
   ],
   "source": [
    "range = []\n",
    "for ind in data.index:\n",
    "    range.append(data['h'][ind] - data['l'][ind])\n",
    "data['range'] = range\n",
    "print(data.head())"
   ]
  },
  {
   "cell_type": "markdown",
   "metadata": {},
   "source": [
    "## Shadow length"
   ]
  },
  {
   "cell_type": "code",
   "execution_count": 30,
   "metadata": {},
   "outputs": [
    {
     "name": "stdout",
     "output_type": "stream",
     "text": [
      "                             o          h          l          c     vol color  \\\n",
      "date                                                                            \n",
      "2020-07-15 20:00:00  1511.0000  1511.0000  1511.0000  1511.0000  2920.0  blue   \n",
      "2020-07-15 19:59:00  1511.2200  1513.0000  1510.9500  1512.5000  2390.0  blue   \n",
      "2020-07-15 19:58:00  1510.9500  1512.0000  1510.9500  1512.0000  2279.0  blue   \n",
      "2020-07-15 19:57:00  1510.5000  1510.7700  1510.1000  1510.7700  2918.0  blue   \n",
      "2020-07-15 19:56:00  1510.1601  1510.1601  1510.1601  1510.1601  1400.0  blue   \n",
      "\n",
      "                     range  u_shadow  l_shadow  \n",
      "date                                            \n",
      "2020-07-15 20:00:00   0.00       0.0      0.00  \n",
      "2020-07-15 19:59:00   2.05       0.5      0.27  \n",
      "2020-07-15 19:58:00   1.05       0.0      0.00  \n",
      "2020-07-15 19:57:00   0.67       0.0      0.40  \n",
      "2020-07-15 19:56:00   0.00       0.0      0.00  \n"
     ]
    }
   ],
   "source": [
    "u_shadow = []\n",
    "l_shadow = []\n",
    "for ind in data.index:\n",
    "    if data['color'][ind] == 'red':\n",
    "        u_shadow.append(data['h'][ind] - data['o'][ind])\n",
    "        l_shadow.append(data['c'][ind] - data['l'][ind])\n",
    "    else:\n",
    "        u_shadow.append(data['h'][ind] - data['c'][ind])\n",
    "        l_shadow.append(data['o'][ind] - data['l'][ind])\n",
    "data['u_shadow'] = u_shadow\n",
    "data['l_shadow'] = l_shadow\n",
    "print(data.head())"
   ]
  },
  {
   "cell_type": "markdown",
   "metadata": {},
   "source": [
    "## Upper bound and lower bound"
   ]
  },
  {
   "cell_type": "code",
   "execution_count": 31,
   "metadata": {},
   "outputs": [
    {
     "name": "stdout",
     "output_type": "stream",
     "text": [
      "                             o          h          l          c     vol color  \\\n",
      "date                                                                            \n",
      "2020-07-15 20:00:00  1511.0000  1511.0000  1511.0000  1511.0000  2920.0  blue   \n",
      "2020-07-15 19:59:00  1511.2200  1513.0000  1510.9500  1512.5000  2390.0  blue   \n",
      "2020-07-15 19:58:00  1510.9500  1512.0000  1510.9500  1512.0000  2279.0  blue   \n",
      "2020-07-15 19:57:00  1510.5000  1510.7700  1510.1000  1510.7700  2918.0  blue   \n",
      "2020-07-15 19:56:00  1510.1601  1510.1601  1510.1601  1510.1601  1400.0  blue   \n",
      "\n",
      "                     range  u_shadow  l_shadow     u_bond    l_bound  \n",
      "date                                                                  \n",
      "2020-07-15 20:00:00   0.00       0.0      0.00  1511.0000  1511.0000  \n",
      "2020-07-15 19:59:00   2.05       0.5      0.27  1512.5000  1511.2200  \n",
      "2020-07-15 19:58:00   1.05       0.0      0.00  1512.0000  1510.9500  \n",
      "2020-07-15 19:57:00   0.67       0.0      0.40  1510.7700  1510.5000  \n",
      "2020-07-15 19:56:00   0.00       0.0      0.00  1510.1601  1510.1601  \n"
     ]
    }
   ],
   "source": [
    "ub = []\n",
    "lb = []\n",
    "for ind in data.index:\n",
    "    if data['color'][ind] == 'blue':\n",
    "        ub.append(data['c'][ind])\n",
    "        lb.append(data['o'][ind])\n",
    "    else:\n",
    "        ub.append(data['o'][ind])\n",
    "        lb.append(data['c'][ind])\n",
    "data['u_bond'] = ub\n",
    "data['l_bound'] = lb\n",
    "print(data.head())"
   ]
  },
  {
   "cell_type": "markdown",
   "metadata": {},
   "source": [
    "# Single candlestick patterns"
   ]
  },
  {
   "cell_type": "markdown",
   "metadata": {},
   "source": [
    "## Marubozu"
   ]
  },
  {
   "cell_type": "code",
   "execution_count": 32,
   "metadata": {},
   "outputs": [
    {
     "ename": "TypeError",
     "evalue": "'dict' object is not callable",
     "output_type": "error",
     "traceback": [
      "\u001b[0;31m---------------------------------------------------------------------------\u001b[0m",
      "\u001b[0;31mTypeError\u001b[0m                                 Traceback (most recent call last)",
      "\u001b[0;32m<ipython-input-32-0dae072adfad>\u001b[0m in \u001b[0;36m<module>\u001b[0;34m\u001b[0m\n\u001b[1;32m      2\u001b[0m \u001b[0mdata_dict\u001b[0m \u001b[0;34m=\u001b[0m \u001b[0mdata\u001b[0m\u001b[0;34m.\u001b[0m\u001b[0mto_dict\u001b[0m\u001b[0;34m(\u001b[0m\u001b[0;34m'records'\u001b[0m\u001b[0;34m)\u001b[0m\u001b[0;34m\u001b[0m\u001b[0;34m\u001b[0m\u001b[0m\n\u001b[1;32m      3\u001b[0m \u001b[0;32mfor\u001b[0m \u001b[0mr\u001b[0m \u001b[0;32min\u001b[0m \u001b[0mdata_dict\u001b[0m\u001b[0;34m:\u001b[0m\u001b[0;34m\u001b[0m\u001b[0;34m\u001b[0m\u001b[0m\n\u001b[0;32m----> 4\u001b[0;31m     if (r('u_shadow')/r('u_bound') <= 0.003 and \n\u001b[0m\u001b[1;32m      5\u001b[0m         r('l_shadow')/r('l_bound') <= 0.003):\n\u001b[1;32m      6\u001b[0m         \u001b[0mtype\u001b[0m\u001b[0;34m.\u001b[0m\u001b[0mappend\u001b[0m\u001b[0;34m(\u001b[0m\u001b[0;34m'marubozu'\u001b[0m\u001b[0;34m)\u001b[0m\u001b[0;34m\u001b[0m\u001b[0;34m\u001b[0m\u001b[0m\n",
      "\u001b[0;31mTypeError\u001b[0m: 'dict' object is not callable"
     ]
    }
   ],
   "source": [
    "type = []\n",
    "data_dict = data.to_dict('records')\n",
    "for r in data_dict:\n",
    "    if (r('u_shadow')/r('u_bound') <= 0.003 and \n",
    "        r('l_shadow')/r('l_bound') <= 0.003):\n",
    "        type.append('marubozu')"
   ]
  },
  {
   "cell_type": "code",
   "execution_count": null,
   "metadata": {},
   "outputs": [],
   "source": []
  }
 ],
 "metadata": {
  "kernelspec": {
   "display_name": "Python 3",
   "language": "python",
   "name": "python3"
  },
  "language_info": {
   "codemirror_mode": {
    "name": "ipython",
    "version": 3
   },
   "file_extension": ".py",
   "mimetype": "text/x-python",
   "name": "python",
   "nbconvert_exporter": "python",
   "pygments_lexer": "ipython3",
   "version": "3.7.6"
  }
 },
 "nbformat": 4,
 "nbformat_minor": 4
}
